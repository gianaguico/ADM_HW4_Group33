{
 "cells": [
  {
   "cell_type": "code",
   "execution_count": 90,
   "metadata": {},
   "outputs": [],
   "source": [
    "import warnings\n",
    "warnings.filterwarnings('ignore')"
   ]
  },
  {
   "cell_type": "code",
   "execution_count": 91,
   "metadata": {},
   "outputs": [],
   "source": [
    "#import useful libraries\n",
    "import pandas as pd\n",
    "import numpy as np\n",
    "from tqdm import tqdm\n",
    "from random import randint\n",
    "import time\n",
    "from datetime import datetime\n",
    "from functions import *"
   ]
  },
  {
   "cell_type": "code",
   "execution_count": 92,
   "metadata": {},
   "outputs": [],
   "source": [
    "data = pd.read_csv('bank_transactions.csv', delimiter=',')"
   ]
  },
  {
   "cell_type": "code",
   "execution_count": 4,
   "metadata": {},
   "outputs": [
    {
     "data": {
      "text/html": [
       "<div>\n",
       "<style scoped>\n",
       "    .dataframe tbody tr th:only-of-type {\n",
       "        vertical-align: middle;\n",
       "    }\n",
       "\n",
       "    .dataframe tbody tr th {\n",
       "        vertical-align: top;\n",
       "    }\n",
       "\n",
       "    .dataframe thead th {\n",
       "        text-align: right;\n",
       "    }\n",
       "</style>\n",
       "<table border=\"1\" class=\"dataframe\">\n",
       "  <thead>\n",
       "    <tr style=\"text-align: right;\">\n",
       "      <th></th>\n",
       "      <th>TransactionID</th>\n",
       "      <th>CustomerID</th>\n",
       "      <th>CustomerDOB</th>\n",
       "      <th>CustGender</th>\n",
       "      <th>CustLocation</th>\n",
       "      <th>CustAccountBalance</th>\n",
       "      <th>TransactionDate</th>\n",
       "      <th>TransactionTime</th>\n",
       "      <th>TransactionAmount (INR)</th>\n",
       "    </tr>\n",
       "  </thead>\n",
       "  <tbody>\n",
       "    <tr>\n",
       "      <th>0</th>\n",
       "      <td>T1</td>\n",
       "      <td>C5841053</td>\n",
       "      <td>10/1/94</td>\n",
       "      <td>F</td>\n",
       "      <td>JAMSHEDPUR</td>\n",
       "      <td>17819.05</td>\n",
       "      <td>2/8/16</td>\n",
       "      <td>143207</td>\n",
       "      <td>25.0</td>\n",
       "    </tr>\n",
       "    <tr>\n",
       "      <th>1</th>\n",
       "      <td>T2</td>\n",
       "      <td>C2142763</td>\n",
       "      <td>4/4/57</td>\n",
       "      <td>M</td>\n",
       "      <td>JHAJJAR</td>\n",
       "      <td>2270.69</td>\n",
       "      <td>2/8/16</td>\n",
       "      <td>141858</td>\n",
       "      <td>27999.0</td>\n",
       "    </tr>\n",
       "    <tr>\n",
       "      <th>2</th>\n",
       "      <td>T3</td>\n",
       "      <td>C4417068</td>\n",
       "      <td>26/11/96</td>\n",
       "      <td>F</td>\n",
       "      <td>MUMBAI</td>\n",
       "      <td>17874.44</td>\n",
       "      <td>2/8/16</td>\n",
       "      <td>142712</td>\n",
       "      <td>459.0</td>\n",
       "    </tr>\n",
       "    <tr>\n",
       "      <th>3</th>\n",
       "      <td>T4</td>\n",
       "      <td>C5342380</td>\n",
       "      <td>14/9/73</td>\n",
       "      <td>F</td>\n",
       "      <td>MUMBAI</td>\n",
       "      <td>866503.21</td>\n",
       "      <td>2/8/16</td>\n",
       "      <td>142714</td>\n",
       "      <td>2060.0</td>\n",
       "    </tr>\n",
       "    <tr>\n",
       "      <th>4</th>\n",
       "      <td>T5</td>\n",
       "      <td>C9031234</td>\n",
       "      <td>24/3/88</td>\n",
       "      <td>F</td>\n",
       "      <td>NAVI MUMBAI</td>\n",
       "      <td>6714.43</td>\n",
       "      <td>2/8/16</td>\n",
       "      <td>181156</td>\n",
       "      <td>1762.5</td>\n",
       "    </tr>\n",
       "  </tbody>\n",
       "</table>\n",
       "</div>"
      ],
      "text/plain": [
       "  TransactionID CustomerID CustomerDOB CustGender CustLocation  \\\n",
       "0            T1   C5841053     10/1/94          F   JAMSHEDPUR   \n",
       "1            T2   C2142763      4/4/57          M      JHAJJAR   \n",
       "2            T3   C4417068    26/11/96          F       MUMBAI   \n",
       "3            T4   C5342380     14/9/73          F       MUMBAI   \n",
       "4            T5   C9031234     24/3/88          F  NAVI MUMBAI   \n",
       "\n",
       "   CustAccountBalance TransactionDate  TransactionTime  \\\n",
       "0            17819.05          2/8/16           143207   \n",
       "1             2270.69          2/8/16           141858   \n",
       "2            17874.44          2/8/16           142712   \n",
       "3           866503.21          2/8/16           142714   \n",
       "4             6714.43          2/8/16           181156   \n",
       "\n",
       "   TransactionAmount (INR)  \n",
       "0                     25.0  \n",
       "1                  27999.0  \n",
       "2                    459.0  \n",
       "3                   2060.0  \n",
       "4                   1762.5  "
      ]
     },
     "execution_count": 4,
     "metadata": {},
     "output_type": "execute_result"
    }
   ],
   "source": [
    "data.head()"
   ]
  },
  {
   "cell_type": "markdown",
   "metadata": {},
   "source": [
    "# Finding Similar Customers"
   ]
  },
  {
   "cell_type": "markdown",
   "metadata": {},
   "source": [
    "## 1.1 Set up the date"
   ]
  },
  {
   "cell_type": "markdown",
   "metadata": {},
   "source": [
    "clean the dataset"
   ]
  },
  {
   "cell_type": "code",
   "execution_count": 93,
   "metadata": {},
   "outputs": [],
   "source": [
    "#check for any NA values\n",
    "any(data.isna())\n",
    "data.dropna(inplace=True)"
   ]
  },
  {
   "cell_type": "markdown",
   "metadata": {},
   "source": [
    "convert string to datetime"
   ]
  },
  {
   "cell_type": "code",
   "execution_count": 94,
   "metadata": {},
   "outputs": [],
   "source": [
    "#convert into datetime format\n",
    "data.CustomerDOB = pd.to_datetime(data.CustomerDOB)\n",
    "data.TransactionDate = pd.to_datetime(data.TransactionDate)\n",
    "\n",
    "data.drop(data[data.CustomerDOB.dt.year > 1998].index, axis = 0, inplace = True)\n",
    "\n",
    "data.drop(data[data.CustomerDOB == 1800].index, axis = 0, inplace=True)\n",
    "\n",
    "data = data.reset_index()"
   ]
  },
  {
   "cell_type": "markdown",
   "metadata": {},
   "source": [
    "We are going to keep only the rows We are going to use later in the query. Thus, we are going to get rid of *TransactionID* and *CustomerID*"
   ]
  },
  {
   "cell_type": "code",
   "execution_count": 95,
   "metadata": {},
   "outputs": [],
   "source": [
    "data = data[['CustomerDOB','CustGender','CustLocation','CustAccountBalance','TransactionDate','TransactionTime','TransactionAmount (INR)']]"
   ]
  },
  {
   "cell_type": "code",
   "execution_count": 96,
   "metadata": {},
   "outputs": [],
   "source": [
    "#get customer's age\n",
    "data['CustomerDOB'] = data['CustomerDOB'].apply(lambda x: int(datetime.strftime(x, \"%Y-%m-%w\").split('-')[0]))\n",
    "today = int(datetime.strftime(datetime.today().date(), \"%Y-%m-%w\").split('-')[0])\n",
    "data['Age'] = data['CustomerDOB'].apply(lambda x: today - x)"
   ]
  },
  {
   "cell_type": "code",
   "execution_count": 97,
   "metadata": {},
   "outputs": [],
   "source": [
    "#get weekday and hour in which transaction occurred\n",
    "week_day = ['Mon','Tue','Wed','Thu','Fri','Sat','Sun']\n",
    "data['TransactionDay'] = data['TransactionTime'].apply(time.ctime)\n",
    "data['Transaction_Hour'] = data['TransactionDay'].apply(lambda x : x[10:-4])\n",
    "data['Transaction_weekday']     = data['TransactionDate'].apply(lambda x : week_day[pd.Timestamp(x).dayofweek])"
   ]
  },
  {
   "cell_type": "code",
   "execution_count": 98,
   "metadata": {},
   "outputs": [],
   "source": [
    "#convert weekday into int value (e.g. Monday = 1)\n",
    "data['Transaction_weekday'] = data['Transaction_weekday'].apply(lambda x: day_of_week(x))\n",
    "\n",
    "#get the time range in which transaction happened (here time range is 2 hours long, e.g. 00:00:00-02:00:00)\n",
    "data['Time_range'] = data['Transaction_Hour'].apply(lambda x: time_ranges(x))"
   ]
  },
  {
   "cell_type": "code",
   "execution_count": 99,
   "metadata": {},
   "outputs": [
    {
     "data": {
      "text/html": [
       "<div>\n",
       "<style scoped>\n",
       "    .dataframe tbody tr th:only-of-type {\n",
       "        vertical-align: middle;\n",
       "    }\n",
       "\n",
       "    .dataframe tbody tr th {\n",
       "        vertical-align: top;\n",
       "    }\n",
       "\n",
       "    .dataframe thead th {\n",
       "        text-align: right;\n",
       "    }\n",
       "</style>\n",
       "<table border=\"1\" class=\"dataframe\">\n",
       "  <thead>\n",
       "    <tr style=\"text-align: right;\">\n",
       "      <th></th>\n",
       "      <th>CustomerDOB</th>\n",
       "      <th>CustGender</th>\n",
       "      <th>CustLocation</th>\n",
       "      <th>CustAccountBalance</th>\n",
       "      <th>TransactionDate</th>\n",
       "      <th>TransactionTime</th>\n",
       "      <th>TransactionAmount (INR)</th>\n",
       "      <th>Age</th>\n",
       "      <th>TransactionDay</th>\n",
       "      <th>Transaction_Hour</th>\n",
       "      <th>Transaction_weekday</th>\n",
       "      <th>Time_range</th>\n",
       "    </tr>\n",
       "  </thead>\n",
       "  <tbody>\n",
       "    <tr>\n",
       "      <th>0</th>\n",
       "      <td>1994</td>\n",
       "      <td>F</td>\n",
       "      <td>JAMSHEDPUR</td>\n",
       "      <td>17819.05</td>\n",
       "      <td>2016-02-08</td>\n",
       "      <td>143207</td>\n",
       "      <td>25.0</td>\n",
       "      <td>28</td>\n",
       "      <td>Fri Jan  2 16:46:47 1970</td>\n",
       "      <td>16:46:47</td>\n",
       "      <td>1</td>\n",
       "      <td>9</td>\n",
       "    </tr>\n",
       "    <tr>\n",
       "      <th>1</th>\n",
       "      <td>1996</td>\n",
       "      <td>F</td>\n",
       "      <td>MUMBAI</td>\n",
       "      <td>17874.44</td>\n",
       "      <td>2016-02-08</td>\n",
       "      <td>142712</td>\n",
       "      <td>459.0</td>\n",
       "      <td>26</td>\n",
       "      <td>Fri Jan  2 16:38:32 1970</td>\n",
       "      <td>16:38:32</td>\n",
       "      <td>1</td>\n",
       "      <td>9</td>\n",
       "    </tr>\n",
       "    <tr>\n",
       "      <th>2</th>\n",
       "      <td>1973</td>\n",
       "      <td>F</td>\n",
       "      <td>MUMBAI</td>\n",
       "      <td>866503.21</td>\n",
       "      <td>2016-02-08</td>\n",
       "      <td>142714</td>\n",
       "      <td>2060.0</td>\n",
       "      <td>49</td>\n",
       "      <td>Fri Jan  2 16:38:34 1970</td>\n",
       "      <td>16:38:34</td>\n",
       "      <td>1</td>\n",
       "      <td>9</td>\n",
       "    </tr>\n",
       "    <tr>\n",
       "      <th>3</th>\n",
       "      <td>1988</td>\n",
       "      <td>F</td>\n",
       "      <td>NAVI MUMBAI</td>\n",
       "      <td>6714.43</td>\n",
       "      <td>2016-02-08</td>\n",
       "      <td>181156</td>\n",
       "      <td>1762.5</td>\n",
       "      <td>34</td>\n",
       "      <td>Sat Jan  3 03:19:16 1970</td>\n",
       "      <td>03:19:16</td>\n",
       "      <td>1</td>\n",
       "      <td>2</td>\n",
       "    </tr>\n",
       "    <tr>\n",
       "      <th>4</th>\n",
       "      <td>1972</td>\n",
       "      <td>F</td>\n",
       "      <td>ITANAGAR</td>\n",
       "      <td>53609.20</td>\n",
       "      <td>2016-02-08</td>\n",
       "      <td>173940</td>\n",
       "      <td>676.0</td>\n",
       "      <td>50</td>\n",
       "      <td>Sat Jan  3 01:19:00 1970</td>\n",
       "      <td>01:19:00</td>\n",
       "      <td>1</td>\n",
       "      <td>1</td>\n",
       "    </tr>\n",
       "  </tbody>\n",
       "</table>\n",
       "</div>"
      ],
      "text/plain": [
       "   CustomerDOB CustGender CustLocation  CustAccountBalance TransactionDate  \\\n",
       "0         1994          F   JAMSHEDPUR            17819.05      2016-02-08   \n",
       "1         1996          F       MUMBAI            17874.44      2016-02-08   \n",
       "2         1973          F       MUMBAI           866503.21      2016-02-08   \n",
       "3         1988          F  NAVI MUMBAI             6714.43      2016-02-08   \n",
       "4         1972          F     ITANAGAR            53609.20      2016-02-08   \n",
       "\n",
       "   TransactionTime  TransactionAmount (INR)  Age            TransactionDay  \\\n",
       "0           143207                     25.0   28  Fri Jan  2 16:46:47 1970   \n",
       "1           142712                    459.0   26  Fri Jan  2 16:38:32 1970   \n",
       "2           142714                   2060.0   49  Fri Jan  2 16:38:34 1970   \n",
       "3           181156                   1762.5   34  Sat Jan  3 03:19:16 1970   \n",
       "4           173940                    676.0   50  Sat Jan  3 01:19:00 1970   \n",
       "\n",
       "  Transaction_Hour  Transaction_weekday  Time_range  \n",
       "0        16:46:47                     1           9  \n",
       "1        16:38:32                     1           9  \n",
       "2        16:38:34                     1           9  \n",
       "3        03:19:16                     1           2  \n",
       "4        01:19:00                     1           1  "
      ]
     },
     "execution_count": 99,
     "metadata": {},
     "output_type": "execute_result"
    }
   ],
   "source": [
    "data.head()"
   ]
  },
  {
   "cell_type": "code",
   "execution_count": 100,
   "metadata": {},
   "outputs": [],
   "source": [
    "#after the feature engineering let's drop some columns\n",
    "data = data.drop(['CustomerDOB','TransactionDate', 'TransactionTime', 'TransactionDay', 'Transaction_Hour'], axis = 1)"
   ]
  },
  {
   "cell_type": "code",
   "execution_count": 101,
   "metadata": {},
   "outputs": [
    {
     "data": {
      "text/html": [
       "<div>\n",
       "<style scoped>\n",
       "    .dataframe tbody tr th:only-of-type {\n",
       "        vertical-align: middle;\n",
       "    }\n",
       "\n",
       "    .dataframe tbody tr th {\n",
       "        vertical-align: top;\n",
       "    }\n",
       "\n",
       "    .dataframe thead th {\n",
       "        text-align: right;\n",
       "    }\n",
       "</style>\n",
       "<table border=\"1\" class=\"dataframe\">\n",
       "  <thead>\n",
       "    <tr style=\"text-align: right;\">\n",
       "      <th></th>\n",
       "      <th>CustGender</th>\n",
       "      <th>CustLocation</th>\n",
       "      <th>CustAccountBalance</th>\n",
       "      <th>TransactionAmount (INR)</th>\n",
       "      <th>Age</th>\n",
       "      <th>Transaction_weekday</th>\n",
       "      <th>Time_range</th>\n",
       "    </tr>\n",
       "  </thead>\n",
       "  <tbody>\n",
       "    <tr>\n",
       "      <th>0</th>\n",
       "      <td>F</td>\n",
       "      <td>JAMSHEDPUR</td>\n",
       "      <td>17819.05</td>\n",
       "      <td>25.0</td>\n",
       "      <td>28</td>\n",
       "      <td>1</td>\n",
       "      <td>9</td>\n",
       "    </tr>\n",
       "    <tr>\n",
       "      <th>1</th>\n",
       "      <td>F</td>\n",
       "      <td>MUMBAI</td>\n",
       "      <td>17874.44</td>\n",
       "      <td>459.0</td>\n",
       "      <td>26</td>\n",
       "      <td>1</td>\n",
       "      <td>9</td>\n",
       "    </tr>\n",
       "    <tr>\n",
       "      <th>2</th>\n",
       "      <td>F</td>\n",
       "      <td>MUMBAI</td>\n",
       "      <td>866503.21</td>\n",
       "      <td>2060.0</td>\n",
       "      <td>49</td>\n",
       "      <td>1</td>\n",
       "      <td>9</td>\n",
       "    </tr>\n",
       "    <tr>\n",
       "      <th>3</th>\n",
       "      <td>F</td>\n",
       "      <td>NAVI MUMBAI</td>\n",
       "      <td>6714.43</td>\n",
       "      <td>1762.5</td>\n",
       "      <td>34</td>\n",
       "      <td>1</td>\n",
       "      <td>2</td>\n",
       "    </tr>\n",
       "    <tr>\n",
       "      <th>4</th>\n",
       "      <td>F</td>\n",
       "      <td>ITANAGAR</td>\n",
       "      <td>53609.20</td>\n",
       "      <td>676.0</td>\n",
       "      <td>50</td>\n",
       "      <td>1</td>\n",
       "      <td>1</td>\n",
       "    </tr>\n",
       "  </tbody>\n",
       "</table>\n",
       "</div>"
      ],
      "text/plain": [
       "  CustGender CustLocation  CustAccountBalance  TransactionAmount (INR)  Age  \\\n",
       "0          F   JAMSHEDPUR            17819.05                     25.0   28   \n",
       "1          F       MUMBAI            17874.44                    459.0   26   \n",
       "2          F       MUMBAI           866503.21                   2060.0   49   \n",
       "3          F  NAVI MUMBAI             6714.43                   1762.5   34   \n",
       "4          F     ITANAGAR            53609.20                    676.0   50   \n",
       "\n",
       "   Transaction_weekday  Time_range  \n",
       "0                    1           9  \n",
       "1                    1           9  \n",
       "2                    1           9  \n",
       "3                    1           2  \n",
       "4                    1           1  "
      ]
     },
     "execution_count": 101,
     "metadata": {},
     "output_type": "execute_result"
    }
   ],
   "source": [
    "data.head()"
   ]
  },
  {
   "cell_type": "code",
   "execution_count": 102,
   "metadata": {},
   "outputs": [],
   "source": [
    "#we save a copy of the dataframe that we will use later\n",
    "data_cp = data.copy(deep=True)"
   ]
  },
  {
   "cell_type": "markdown",
   "metadata": {},
   "source": [
    "Convert values in int32 dtype in order to apply the hash function"
   ]
  },
  {
   "cell_type": "code",
   "execution_count": 103,
   "metadata": {},
   "outputs": [],
   "source": [
    "data.CustGender = data['CustGender'].apply(string_to_int)\n",
    "data.CustLocation = data['CustLocation'].apply(string_to_int)\n",
    "data.CustAccountBalance = data['CustAccountBalance'].apply(float_to_int)\n",
    "data['TransactionAmount (INR)'] = data['TransactionAmount (INR)'].apply(float_to_int)\n"
   ]
  },
  {
   "cell_type": "code",
   "execution_count": 104,
   "metadata": {},
   "outputs": [
    {
     "data": {
      "text/html": [
       "<div>\n",
       "<style scoped>\n",
       "    .dataframe tbody tr th:only-of-type {\n",
       "        vertical-align: middle;\n",
       "    }\n",
       "\n",
       "    .dataframe tbody tr th {\n",
       "        vertical-align: top;\n",
       "    }\n",
       "\n",
       "    .dataframe thead th {\n",
       "        text-align: right;\n",
       "    }\n",
       "</style>\n",
       "<table border=\"1\" class=\"dataframe\">\n",
       "  <thead>\n",
       "    <tr style=\"text-align: right;\">\n",
       "      <th></th>\n",
       "      <th>CustGender</th>\n",
       "      <th>CustLocation</th>\n",
       "      <th>CustAccountBalance</th>\n",
       "      <th>TransactionAmount (INR)</th>\n",
       "      <th>Age</th>\n",
       "      <th>Transaction_weekday</th>\n",
       "      <th>Time_range</th>\n",
       "    </tr>\n",
       "  </thead>\n",
       "  <tbody>\n",
       "    <tr>\n",
       "      <th>0</th>\n",
       "      <td>70</td>\n",
       "      <td>755</td>\n",
       "      <td>17819</td>\n",
       "      <td>25</td>\n",
       "      <td>28</td>\n",
       "      <td>1</td>\n",
       "      <td>9</td>\n",
       "    </tr>\n",
       "    <tr>\n",
       "      <th>1</th>\n",
       "      <td>70</td>\n",
       "      <td>443</td>\n",
       "      <td>17874</td>\n",
       "      <td>459</td>\n",
       "      <td>26</td>\n",
       "      <td>1</td>\n",
       "      <td>9</td>\n",
       "    </tr>\n",
       "    <tr>\n",
       "      <th>2</th>\n",
       "      <td>70</td>\n",
       "      <td>443</td>\n",
       "      <td>866503</td>\n",
       "      <td>2060</td>\n",
       "      <td>49</td>\n",
       "      <td>1</td>\n",
       "      <td>9</td>\n",
       "    </tr>\n",
       "    <tr>\n",
       "      <th>3</th>\n",
       "      <td>70</td>\n",
       "      <td>777</td>\n",
       "      <td>6714</td>\n",
       "      <td>1762</td>\n",
       "      <td>34</td>\n",
       "      <td>1</td>\n",
       "      <td>2</td>\n",
       "    </tr>\n",
       "    <tr>\n",
       "      <th>4</th>\n",
       "      <td>70</td>\n",
       "      <td>583</td>\n",
       "      <td>53609</td>\n",
       "      <td>676</td>\n",
       "      <td>50</td>\n",
       "      <td>1</td>\n",
       "      <td>1</td>\n",
       "    </tr>\n",
       "  </tbody>\n",
       "</table>\n",
       "</div>"
      ],
      "text/plain": [
       "   CustGender  CustLocation  CustAccountBalance  TransactionAmount (INR)  Age  \\\n",
       "0          70           755               17819                       25   28   \n",
       "1          70           443               17874                      459   26   \n",
       "2          70           443              866503                     2060   49   \n",
       "3          70           777                6714                     1762   34   \n",
       "4          70           583               53609                      676   50   \n",
       "\n",
       "   Transaction_weekday  Time_range  \n",
       "0                    1           9  \n",
       "1                    1           9  \n",
       "2                    1           9  \n",
       "3                    1           2  \n",
       "4                    1           1  "
      ]
     },
     "execution_count": 104,
     "metadata": {},
     "output_type": "execute_result"
    }
   ],
   "source": [
    "data.head()"
   ]
  },
  {
   "cell_type": "code",
   "execution_count": 105,
   "metadata": {},
   "outputs": [
    {
     "data": {
      "text/plain": [
       "CustGender                       84\n",
       "CustLocation                   2609\n",
       "CustAccountBalance         55369688\n",
       "TransactionAmount (INR)     1560034\n",
       "Age                             222\n",
       "Transaction_weekday               7\n",
       "Time_range                       12\n",
       "dtype: int64"
      ]
     },
     "execution_count": 105,
     "metadata": {},
     "output_type": "execute_result"
    }
   ],
   "source": [
    "#obtain max value for x\n",
    "data.max()"
   ]
  },
  {
   "cell_type": "code",
   "execution_count": 106,
   "metadata": {},
   "outputs": [],
   "source": [
    "#let's get the next prime number bigger than x\n",
    "\n",
    "from sympy import nextprime\n",
    "\n",
    "max_value_of_x = nextprime(55369688)"
   ]
  },
  {
   "cell_type": "markdown",
   "metadata": {},
   "source": [
    "## 1.2 Fingerprint Hashing"
   ]
  },
  {
   "cell_type": "markdown",
   "metadata": {},
   "source": [
    "The hash function we want to implement is in the following form: <br>\n",
    "$\\begin{equation} h(x)=(ax+b)\\mod{c}\\end{equation}$ <br>\n",
    "where: <br>\n",
    "- *x*: input value\n",
    "- *a*, *b*: randomly choosen integers less than the maximum value of *x*\n",
    "- *c*: the next prime number bigger than the maximum value of *x*"
   ]
  },
  {
   "cell_type": "markdown",
   "metadata": {},
   "source": [
    "Now it's time to implement the MinHash"
   ]
  },
  {
   "cell_type": "code",
   "execution_count": 107,
   "metadata": {},
   "outputs": [],
   "source": [
    "c = max_value_of_x\n",
    "M = 2**32 -1                           \n",
    "n_hash = 10\n",
    "\n",
    "a,b = random_coef(n_hash, M)\n",
    "\n",
    "list_of_tuples = list(\n",
    "    map(\n",
    "        lambda x, y: (x, y),\n",
    "        a,\n",
    "        b\n",
    "    )\n",
    ")\n",
    "data['min-hash']  = [min_hash([*x[1]],c,list_of_tuples) for x in (data.iterrows())]"
   ]
  },
  {
   "cell_type": "code",
   "execution_count": 108,
   "metadata": {},
   "outputs": [
    {
     "data": {
      "text/html": [
       "<div>\n",
       "<style scoped>\n",
       "    .dataframe tbody tr th:only-of-type {\n",
       "        vertical-align: middle;\n",
       "    }\n",
       "\n",
       "    .dataframe tbody tr th {\n",
       "        vertical-align: top;\n",
       "    }\n",
       "\n",
       "    .dataframe thead th {\n",
       "        text-align: right;\n",
       "    }\n",
       "</style>\n",
       "<table border=\"1\" class=\"dataframe\">\n",
       "  <thead>\n",
       "    <tr style=\"text-align: right;\">\n",
       "      <th></th>\n",
       "      <th>CustGender</th>\n",
       "      <th>CustLocation</th>\n",
       "      <th>CustAccountBalance</th>\n",
       "      <th>TransactionAmount (INR)</th>\n",
       "      <th>Age</th>\n",
       "      <th>Transaction_weekday</th>\n",
       "      <th>Time_range</th>\n",
       "      <th>min-hash</th>\n",
       "    </tr>\n",
       "  </thead>\n",
       "  <tbody>\n",
       "    <tr>\n",
       "      <th>0</th>\n",
       "      <td>70</td>\n",
       "      <td>755</td>\n",
       "      <td>17819</td>\n",
       "      <td>25</td>\n",
       "      <td>28</td>\n",
       "      <td>1</td>\n",
       "      <td>9</td>\n",
       "      <td>[11040451, 678229, 2235825, 2821352, 2108599, ...</td>\n",
       "    </tr>\n",
       "    <tr>\n",
       "      <th>1</th>\n",
       "      <td>70</td>\n",
       "      <td>443</td>\n",
       "      <td>17874</td>\n",
       "      <td>459</td>\n",
       "      <td>26</td>\n",
       "      <td>1</td>\n",
       "      <td>9</td>\n",
       "      <td>[11040451, 8608876, 453510, 2563973, 437145, 6...</td>\n",
       "    </tr>\n",
       "    <tr>\n",
       "      <th>2</th>\n",
       "      <td>70</td>\n",
       "      <td>443</td>\n",
       "      <td>866503</td>\n",
       "      <td>2060</td>\n",
       "      <td>49</td>\n",
       "      <td>1</td>\n",
       "      <td>9</td>\n",
       "      <td>[11040451, 8608876, 3913906, 9336397, 7855981,...</td>\n",
       "    </tr>\n",
       "    <tr>\n",
       "      <th>3</th>\n",
       "      <td>70</td>\n",
       "      <td>777</td>\n",
       "      <td>6714</td>\n",
       "      <td>1762</td>\n",
       "      <td>34</td>\n",
       "      <td>1</td>\n",
       "      <td>2</td>\n",
       "      <td>[11040451, 3313423, 4774426, 6358841, 7601169,...</td>\n",
       "    </tr>\n",
       "    <tr>\n",
       "      <th>4</th>\n",
       "      <td>70</td>\n",
       "      <td>583</td>\n",
       "      <td>53609</td>\n",
       "      <td>676</td>\n",
       "      <td>50</td>\n",
       "      <td>1</td>\n",
       "      <td>1</td>\n",
       "      <td>[11040451, 13731951, 2690495, 5950415, 5678579...</td>\n",
       "    </tr>\n",
       "  </tbody>\n",
       "</table>\n",
       "</div>"
      ],
      "text/plain": [
       "   CustGender  CustLocation  CustAccountBalance  TransactionAmount (INR)  Age  \\\n",
       "0          70           755               17819                       25   28   \n",
       "1          70           443               17874                      459   26   \n",
       "2          70           443              866503                     2060   49   \n",
       "3          70           777                6714                     1762   34   \n",
       "4          70           583               53609                      676   50   \n",
       "\n",
       "   Transaction_weekday  Time_range  \\\n",
       "0                    1           9   \n",
       "1                    1           9   \n",
       "2                    1           9   \n",
       "3                    1           2   \n",
       "4                    1           1   \n",
       "\n",
       "                                            min-hash  \n",
       "0  [11040451, 678229, 2235825, 2821352, 2108599, ...  \n",
       "1  [11040451, 8608876, 453510, 2563973, 437145, 6...  \n",
       "2  [11040451, 8608876, 3913906, 9336397, 7855981,...  \n",
       "3  [11040451, 3313423, 4774426, 6358841, 7601169,...  \n",
       "4  [11040451, 13731951, 2690495, 5950415, 5678579...  "
      ]
     },
     "execution_count": 108,
     "metadata": {},
     "output_type": "execute_result"
    }
   ],
   "source": [
    "data.head()"
   ]
  },
  {
   "cell_type": "markdown",
   "metadata": {},
   "source": [
    "## 1.3 Locality Sensitive Hashing (LSH)"
   ]
  },
  {
   "cell_type": "markdown",
   "metadata": {},
   "source": [
    "Now let's apply the same idea on the query, and then apply the Jaccard similarity since MinHash is stricly related to it"
   ]
  },
  {
   "cell_type": "code",
   "execution_count": 131,
   "metadata": {},
   "outputs": [],
   "source": [
    "query = pd.read_csv('query_users.csv')"
   ]
  },
  {
   "cell_type": "code",
   "execution_count": 132,
   "metadata": {},
   "outputs": [
    {
     "data": {
      "text/html": [
       "<div>\n",
       "<style scoped>\n",
       "    .dataframe tbody tr th:only-of-type {\n",
       "        vertical-align: middle;\n",
       "    }\n",
       "\n",
       "    .dataframe tbody tr th {\n",
       "        vertical-align: top;\n",
       "    }\n",
       "\n",
       "    .dataframe thead th {\n",
       "        text-align: right;\n",
       "    }\n",
       "</style>\n",
       "<table border=\"1\" class=\"dataframe\">\n",
       "  <thead>\n",
       "    <tr style=\"text-align: right;\">\n",
       "      <th></th>\n",
       "      <th>CustomerDOB</th>\n",
       "      <th>CustGender</th>\n",
       "      <th>CustLocation</th>\n",
       "      <th>CustAccountBalance</th>\n",
       "      <th>TransactionDate</th>\n",
       "      <th>TransactionTime</th>\n",
       "      <th>TransactionAmount (INR)</th>\n",
       "    </tr>\n",
       "  </thead>\n",
       "  <tbody>\n",
       "    <tr>\n",
       "      <th>0</th>\n",
       "      <td>27/7/78</td>\n",
       "      <td>M</td>\n",
       "      <td>DELHI</td>\n",
       "      <td>94695.61</td>\n",
       "      <td>2/9/16</td>\n",
       "      <td>140310</td>\n",
       "      <td>65.0</td>\n",
       "    </tr>\n",
       "    <tr>\n",
       "      <th>1</th>\n",
       "      <td>6/11/92</td>\n",
       "      <td>M</td>\n",
       "      <td>PANCHKULA</td>\n",
       "      <td>7584.09</td>\n",
       "      <td>2/9/16</td>\n",
       "      <td>120214</td>\n",
       "      <td>6025.0</td>\n",
       "    </tr>\n",
       "    <tr>\n",
       "      <th>2</th>\n",
       "      <td>14/8/91</td>\n",
       "      <td>M</td>\n",
       "      <td>PATNA</td>\n",
       "      <td>7180.60</td>\n",
       "      <td>10/8/16</td>\n",
       "      <td>221732</td>\n",
       "      <td>541.5</td>\n",
       "    </tr>\n",
       "    <tr>\n",
       "      <th>3</th>\n",
       "      <td>3/1/87</td>\n",
       "      <td>M</td>\n",
       "      <td>CHENNAI</td>\n",
       "      <td>56847.75</td>\n",
       "      <td>29/8/16</td>\n",
       "      <td>144138</td>\n",
       "      <td>1000.0</td>\n",
       "    </tr>\n",
       "    <tr>\n",
       "      <th>4</th>\n",
       "      <td>4/1/95</td>\n",
       "      <td>M</td>\n",
       "      <td>GURGAON</td>\n",
       "      <td>84950.13</td>\n",
       "      <td>25/9/16</td>\n",
       "      <td>233309</td>\n",
       "      <td>80.0</td>\n",
       "    </tr>\n",
       "  </tbody>\n",
       "</table>\n",
       "</div>"
      ],
      "text/plain": [
       "  CustomerDOB CustGender CustLocation  CustAccountBalance TransactionDate  \\\n",
       "0     27/7/78          M        DELHI            94695.61          2/9/16   \n",
       "1     6/11/92          M    PANCHKULA             7584.09          2/9/16   \n",
       "2     14/8/91          M        PATNA             7180.60         10/8/16   \n",
       "3      3/1/87          M      CHENNAI            56847.75         29/8/16   \n",
       "4      4/1/95          M      GURGAON            84950.13         25/9/16   \n",
       "\n",
       "   TransactionTime  TransactionAmount (INR)  \n",
       "0           140310                     65.0  \n",
       "1           120214                   6025.0  \n",
       "2           221732                    541.5  \n",
       "3           144138                   1000.0  \n",
       "4           233309                     80.0  "
      ]
     },
     "execution_count": 132,
     "metadata": {},
     "output_type": "execute_result"
    }
   ],
   "source": [
    "query.head()"
   ]
  },
  {
   "cell_type": "markdown",
   "metadata": {},
   "source": [
    "pre-processing of the query"
   ]
  },
  {
   "cell_type": "code",
   "execution_count": 133,
   "metadata": {},
   "outputs": [],
   "source": [
    "#convert date into datetime format\n",
    "query.CustomerDOB = pd.to_datetime(query.CustomerDOB)\n",
    "query.TransactionDate = pd.to_datetime(query.TransactionDate)"
   ]
  },
  {
   "cell_type": "code",
   "execution_count": 134,
   "metadata": {},
   "outputs": [],
   "source": [
    "#get customer's age\n",
    "query['CustomerDOB'] = query['CustomerDOB'].apply(lambda x: int(datetime.strftime(x, \"%Y-%m-%w\").split('-')[0]))\n",
    "today = int(datetime.strftime(datetime.today().date(), \"%Y-%m-%w\").split('-')[0])\n",
    "query['Age'] = query['CustomerDOB'].apply(lambda x: today - x)"
   ]
  },
  {
   "cell_type": "code",
   "execution_count": 135,
   "metadata": {},
   "outputs": [],
   "source": [
    "#get weekday and transaction hour\n",
    "week_day = ['Mon','Tue','Wed','Thu','Fri','Sat','Sun']\n",
    "query['TransactionDay'] = query['TransactionTime'].apply(time.ctime)\n",
    "query['Transaction_Hour'] = query['TransactionDay'].apply(lambda x : x[10:-4])\n",
    "query['Transaction_weekday'] = query['TransactionDate'].apply(lambda x : week_day[pd.Timestamp(x).dayofweek])"
   ]
  },
  {
   "cell_type": "code",
   "execution_count": 136,
   "metadata": {},
   "outputs": [
    {
     "data": {
      "text/html": [
       "<div>\n",
       "<style scoped>\n",
       "    .dataframe tbody tr th:only-of-type {\n",
       "        vertical-align: middle;\n",
       "    }\n",
       "\n",
       "    .dataframe tbody tr th {\n",
       "        vertical-align: top;\n",
       "    }\n",
       "\n",
       "    .dataframe thead th {\n",
       "        text-align: right;\n",
       "    }\n",
       "</style>\n",
       "<table border=\"1\" class=\"dataframe\">\n",
       "  <thead>\n",
       "    <tr style=\"text-align: right;\">\n",
       "      <th></th>\n",
       "      <th>CustomerDOB</th>\n",
       "      <th>CustGender</th>\n",
       "      <th>CustLocation</th>\n",
       "      <th>CustAccountBalance</th>\n",
       "      <th>TransactionDate</th>\n",
       "      <th>TransactionTime</th>\n",
       "      <th>TransactionAmount (INR)</th>\n",
       "      <th>Age</th>\n",
       "      <th>TransactionDay</th>\n",
       "      <th>Transaction_Hour</th>\n",
       "      <th>Transaction_weekday</th>\n",
       "    </tr>\n",
       "  </thead>\n",
       "  <tbody>\n",
       "    <tr>\n",
       "      <th>0</th>\n",
       "      <td>1978</td>\n",
       "      <td>M</td>\n",
       "      <td>DELHI</td>\n",
       "      <td>94695.61</td>\n",
       "      <td>2016-02-09</td>\n",
       "      <td>140310</td>\n",
       "      <td>65.0</td>\n",
       "      <td>44</td>\n",
       "      <td>Fri Jan  2 15:58:30 1970</td>\n",
       "      <td>15:58:30</td>\n",
       "      <td>Tue</td>\n",
       "    </tr>\n",
       "    <tr>\n",
       "      <th>1</th>\n",
       "      <td>1992</td>\n",
       "      <td>M</td>\n",
       "      <td>PANCHKULA</td>\n",
       "      <td>7584.09</td>\n",
       "      <td>2016-02-09</td>\n",
       "      <td>120214</td>\n",
       "      <td>6025.0</td>\n",
       "      <td>30</td>\n",
       "      <td>Fri Jan  2 10:23:34 1970</td>\n",
       "      <td>10:23:34</td>\n",
       "      <td>Tue</td>\n",
       "    </tr>\n",
       "    <tr>\n",
       "      <th>2</th>\n",
       "      <td>1991</td>\n",
       "      <td>M</td>\n",
       "      <td>PATNA</td>\n",
       "      <td>7180.60</td>\n",
       "      <td>2016-10-08</td>\n",
       "      <td>221732</td>\n",
       "      <td>541.5</td>\n",
       "      <td>31</td>\n",
       "      <td>Sat Jan  3 14:35:32 1970</td>\n",
       "      <td>14:35:32</td>\n",
       "      <td>Sat</td>\n",
       "    </tr>\n",
       "    <tr>\n",
       "      <th>3</th>\n",
       "      <td>1987</td>\n",
       "      <td>M</td>\n",
       "      <td>CHENNAI</td>\n",
       "      <td>56847.75</td>\n",
       "      <td>2016-08-29</td>\n",
       "      <td>144138</td>\n",
       "      <td>1000.0</td>\n",
       "      <td>35</td>\n",
       "      <td>Fri Jan  2 17:02:18 1970</td>\n",
       "      <td>17:02:18</td>\n",
       "      <td>Mon</td>\n",
       "    </tr>\n",
       "    <tr>\n",
       "      <th>4</th>\n",
       "      <td>1995</td>\n",
       "      <td>M</td>\n",
       "      <td>GURGAON</td>\n",
       "      <td>84950.13</td>\n",
       "      <td>2016-09-25</td>\n",
       "      <td>233309</td>\n",
       "      <td>80.0</td>\n",
       "      <td>27</td>\n",
       "      <td>Sat Jan  3 17:48:29 1970</td>\n",
       "      <td>17:48:29</td>\n",
       "      <td>Sun</td>\n",
       "    </tr>\n",
       "  </tbody>\n",
       "</table>\n",
       "</div>"
      ],
      "text/plain": [
       "   CustomerDOB CustGender CustLocation  CustAccountBalance TransactionDate  \\\n",
       "0         1978          M        DELHI            94695.61      2016-02-09   \n",
       "1         1992          M    PANCHKULA             7584.09      2016-02-09   \n",
       "2         1991          M        PATNA             7180.60      2016-10-08   \n",
       "3         1987          M      CHENNAI            56847.75      2016-08-29   \n",
       "4         1995          M      GURGAON            84950.13      2016-09-25   \n",
       "\n",
       "   TransactionTime  TransactionAmount (INR)  Age            TransactionDay  \\\n",
       "0           140310                     65.0   44  Fri Jan  2 15:58:30 1970   \n",
       "1           120214                   6025.0   30  Fri Jan  2 10:23:34 1970   \n",
       "2           221732                    541.5   31  Sat Jan  3 14:35:32 1970   \n",
       "3           144138                   1000.0   35  Fri Jan  2 17:02:18 1970   \n",
       "4           233309                     80.0   27  Sat Jan  3 17:48:29 1970   \n",
       "\n",
       "  Transaction_Hour Transaction_weekday  \n",
       "0        15:58:30                  Tue  \n",
       "1        10:23:34                  Tue  \n",
       "2        14:35:32                  Sat  \n",
       "3        17:02:18                  Mon  \n",
       "4        17:48:29                  Sun  "
      ]
     },
     "execution_count": 136,
     "metadata": {},
     "output_type": "execute_result"
    }
   ],
   "source": [
    "query.head()"
   ]
  },
  {
   "cell_type": "code",
   "execution_count": 137,
   "metadata": {},
   "outputs": [],
   "source": [
    "query['Transaction_weekday'] = query['Transaction_weekday'].apply(lambda x: day_of_week(x))\n",
    "query['Time_range'] = query['Transaction_Hour'].apply(lambda x: time_ranges(x))"
   ]
  },
  {
   "cell_type": "code",
   "execution_count": 138,
   "metadata": {},
   "outputs": [],
   "source": [
    "query = query.drop(['CustomerDOB','TransactionDate', 'TransactionTime', 'TransactionDay', 'Transaction_Hour'], axis = 1)"
   ]
  },
  {
   "cell_type": "code",
   "execution_count": 139,
   "metadata": {},
   "outputs": [],
   "source": [
    "query_cp = query.copy(deep=True)"
   ]
  },
  {
   "cell_type": "code",
   "execution_count": 140,
   "metadata": {},
   "outputs": [
    {
     "data": {
      "text/html": [
       "<div>\n",
       "<style scoped>\n",
       "    .dataframe tbody tr th:only-of-type {\n",
       "        vertical-align: middle;\n",
       "    }\n",
       "\n",
       "    .dataframe tbody tr th {\n",
       "        vertical-align: top;\n",
       "    }\n",
       "\n",
       "    .dataframe thead th {\n",
       "        text-align: right;\n",
       "    }\n",
       "</style>\n",
       "<table border=\"1\" class=\"dataframe\">\n",
       "  <thead>\n",
       "    <tr style=\"text-align: right;\">\n",
       "      <th></th>\n",
       "      <th>CustGender</th>\n",
       "      <th>CustLocation</th>\n",
       "      <th>CustAccountBalance</th>\n",
       "      <th>TransactionAmount (INR)</th>\n",
       "      <th>Age</th>\n",
       "      <th>Transaction_weekday</th>\n",
       "      <th>Time_range</th>\n",
       "    </tr>\n",
       "  </thead>\n",
       "  <tbody>\n",
       "    <tr>\n",
       "      <th>0</th>\n",
       "      <td>M</td>\n",
       "      <td>DELHI</td>\n",
       "      <td>94695.61</td>\n",
       "      <td>65.0</td>\n",
       "      <td>44</td>\n",
       "      <td>2</td>\n",
       "      <td>8</td>\n",
       "    </tr>\n",
       "    <tr>\n",
       "      <th>1</th>\n",
       "      <td>M</td>\n",
       "      <td>PANCHKULA</td>\n",
       "      <td>7584.09</td>\n",
       "      <td>6025.0</td>\n",
       "      <td>30</td>\n",
       "      <td>2</td>\n",
       "      <td>6</td>\n",
       "    </tr>\n",
       "    <tr>\n",
       "      <th>2</th>\n",
       "      <td>M</td>\n",
       "      <td>PATNA</td>\n",
       "      <td>7180.60</td>\n",
       "      <td>541.5</td>\n",
       "      <td>31</td>\n",
       "      <td>6</td>\n",
       "      <td>8</td>\n",
       "    </tr>\n",
       "    <tr>\n",
       "      <th>3</th>\n",
       "      <td>M</td>\n",
       "      <td>CHENNAI</td>\n",
       "      <td>56847.75</td>\n",
       "      <td>1000.0</td>\n",
       "      <td>35</td>\n",
       "      <td>1</td>\n",
       "      <td>9</td>\n",
       "    </tr>\n",
       "    <tr>\n",
       "      <th>4</th>\n",
       "      <td>M</td>\n",
       "      <td>GURGAON</td>\n",
       "      <td>84950.13</td>\n",
       "      <td>80.0</td>\n",
       "      <td>27</td>\n",
       "      <td>7</td>\n",
       "      <td>9</td>\n",
       "    </tr>\n",
       "  </tbody>\n",
       "</table>\n",
       "</div>"
      ],
      "text/plain": [
       "  CustGender CustLocation  CustAccountBalance  TransactionAmount (INR)  Age  \\\n",
       "0          M        DELHI            94695.61                     65.0   44   \n",
       "1          M    PANCHKULA             7584.09                   6025.0   30   \n",
       "2          M        PATNA             7180.60                    541.5   31   \n",
       "3          M      CHENNAI            56847.75                   1000.0   35   \n",
       "4          M      GURGAON            84950.13                     80.0   27   \n",
       "\n",
       "   Transaction_weekday  Time_range  \n",
       "0                    2           8  \n",
       "1                    2           6  \n",
       "2                    6           8  \n",
       "3                    1           9  \n",
       "4                    7           9  "
      ]
     },
     "execution_count": 140,
     "metadata": {},
     "output_type": "execute_result"
    }
   ],
   "source": [
    "query_cp.head()"
   ]
  },
  {
   "cell_type": "code",
   "execution_count": 141,
   "metadata": {},
   "outputs": [],
   "source": [
    "\n",
    "#convert other values into int32\n",
    "query.CustGender = query['CustGender'].apply(string_to_int)\n",
    "query.CustLocation = query['CustLocation'].apply(string_to_int)\n",
    "query.CustAccountBalance = query['CustAccountBalance'].apply(float_to_int)\n",
    "query['TransactionAmount (INR)'] = query['TransactionAmount (INR)'].apply(float_to_int)"
   ]
  },
  {
   "cell_type": "code",
   "execution_count": 121,
   "metadata": {},
   "outputs": [
    {
     "data": {
      "text/html": [
       "<div>\n",
       "<style scoped>\n",
       "    .dataframe tbody tr th:only-of-type {\n",
       "        vertical-align: middle;\n",
       "    }\n",
       "\n",
       "    .dataframe tbody tr th {\n",
       "        vertical-align: top;\n",
       "    }\n",
       "\n",
       "    .dataframe thead th {\n",
       "        text-align: right;\n",
       "    }\n",
       "</style>\n",
       "<table border=\"1\" class=\"dataframe\">\n",
       "  <thead>\n",
       "    <tr style=\"text-align: right;\">\n",
       "      <th></th>\n",
       "      <th>CustGender</th>\n",
       "      <th>CustLocation</th>\n",
       "      <th>CustAccountBalance</th>\n",
       "      <th>TransactionAmount (INR)</th>\n",
       "      <th>Age</th>\n",
       "      <th>Transaction_weekday</th>\n",
       "      <th>Time_range</th>\n",
       "    </tr>\n",
       "  </thead>\n",
       "  <tbody>\n",
       "    <tr>\n",
       "      <th>0</th>\n",
       "      <td>77</td>\n",
       "      <td>358</td>\n",
       "      <td>94695</td>\n",
       "      <td>65</td>\n",
       "      <td>44</td>\n",
       "      <td>2</td>\n",
       "      <td>8</td>\n",
       "    </tr>\n",
       "    <tr>\n",
       "      <th>1</th>\n",
       "      <td>77</td>\n",
       "      <td>663</td>\n",
       "      <td>7584</td>\n",
       "      <td>6025</td>\n",
       "      <td>30</td>\n",
       "      <td>2</td>\n",
       "      <td>6</td>\n",
       "    </tr>\n",
       "    <tr>\n",
       "      <th>2</th>\n",
       "      <td>77</td>\n",
       "      <td>372</td>\n",
       "      <td>7180</td>\n",
       "      <td>541</td>\n",
       "      <td>31</td>\n",
       "      <td>6</td>\n",
       "      <td>8</td>\n",
       "    </tr>\n",
       "    <tr>\n",
       "      <th>3</th>\n",
       "      <td>77</td>\n",
       "      <td>502</td>\n",
       "      <td>56847</td>\n",
       "      <td>1000</td>\n",
       "      <td>35</td>\n",
       "      <td>1</td>\n",
       "      <td>9</td>\n",
       "    </tr>\n",
       "    <tr>\n",
       "      <th>4</th>\n",
       "      <td>77</td>\n",
       "      <td>531</td>\n",
       "      <td>84950</td>\n",
       "      <td>80</td>\n",
       "      <td>27</td>\n",
       "      <td>7</td>\n",
       "      <td>9</td>\n",
       "    </tr>\n",
       "  </tbody>\n",
       "</table>\n",
       "</div>"
      ],
      "text/plain": [
       "   CustGender  CustLocation  CustAccountBalance  TransactionAmount (INR)  Age  \\\n",
       "0          77           358               94695                       65   44   \n",
       "1          77           663                7584                     6025   30   \n",
       "2          77           372                7180                      541   31   \n",
       "3          77           502               56847                     1000   35   \n",
       "4          77           531               84950                       80   27   \n",
       "\n",
       "   Transaction_weekday  Time_range  \n",
       "0                    2           8  \n",
       "1                    2           6  \n",
       "2                    6           8  \n",
       "3                    1           9  \n",
       "4                    7           9  "
      ]
     },
     "execution_count": 121,
     "metadata": {},
     "output_type": "execute_result"
    }
   ],
   "source": [
    "query.head()"
   ]
  },
  {
   "cell_type": "code",
   "execution_count": 142,
   "metadata": {},
   "outputs": [],
   "source": [
    "query['min-hash']  = [min_hash([*x[1]],c,list_of_tuples) for x in (query.iterrows())]"
   ]
  },
  {
   "cell_type": "code",
   "execution_count": 123,
   "metadata": {},
   "outputs": [
    {
     "data": {
      "text/html": [
       "<div>\n",
       "<style scoped>\n",
       "    .dataframe tbody tr th:only-of-type {\n",
       "        vertical-align: middle;\n",
       "    }\n",
       "\n",
       "    .dataframe tbody tr th {\n",
       "        vertical-align: top;\n",
       "    }\n",
       "\n",
       "    .dataframe thead th {\n",
       "        text-align: right;\n",
       "    }\n",
       "</style>\n",
       "<table border=\"1\" class=\"dataframe\">\n",
       "  <thead>\n",
       "    <tr style=\"text-align: right;\">\n",
       "      <th></th>\n",
       "      <th>CustGender</th>\n",
       "      <th>CustLocation</th>\n",
       "      <th>CustAccountBalance</th>\n",
       "      <th>TransactionAmount (INR)</th>\n",
       "      <th>Age</th>\n",
       "      <th>Transaction_weekday</th>\n",
       "      <th>Time_range</th>\n",
       "      <th>min-hash</th>\n",
       "    </tr>\n",
       "  </thead>\n",
       "  <tbody>\n",
       "    <tr>\n",
       "      <th>0</th>\n",
       "      <td>77</td>\n",
       "      <td>358</td>\n",
       "      <td>94695</td>\n",
       "      <td>65</td>\n",
       "      <td>44</td>\n",
       "      <td>2</td>\n",
       "      <td>8</td>\n",
       "      <td>[461559, 11899915, 3414210, 2356766, 4417968, ...</td>\n",
       "    </tr>\n",
       "    <tr>\n",
       "      <th>1</th>\n",
       "      <td>77</td>\n",
       "      <td>663</td>\n",
       "      <td>7584</td>\n",
       "      <td>6025</td>\n",
       "      <td>30</td>\n",
       "      <td>2</td>\n",
       "      <td>6</td>\n",
       "      <td>[461559, 1662786, 136784, 917563, 883958, 6497...</td>\n",
       "    </tr>\n",
       "    <tr>\n",
       "      <th>2</th>\n",
       "      <td>77</td>\n",
       "      <td>372</td>\n",
       "      <td>7180</td>\n",
       "      <td>541</td>\n",
       "      <td>31</td>\n",
       "      <td>6</td>\n",
       "      <td>8</td>\n",
       "      <td>[461559, 3469000, 3224676, 8970021, 1040441, 6...</td>\n",
       "    </tr>\n",
       "    <tr>\n",
       "      <th>3</th>\n",
       "      <td>77</td>\n",
       "      <td>502</td>\n",
       "      <td>56847</td>\n",
       "      <td>1000</td>\n",
       "      <td>35</td>\n",
       "      <td>1</td>\n",
       "      <td>9</td>\n",
       "      <td>[461559, 665009, 709613, 4960246, 11952089, 60...</td>\n",
       "    </tr>\n",
       "    <tr>\n",
       "      <th>4</th>\n",
       "      <td>77</td>\n",
       "      <td>531</td>\n",
       "      <td>84950</td>\n",
       "      <td>80</td>\n",
       "      <td>27</td>\n",
       "      <td>7</td>\n",
       "      <td>9</td>\n",
       "      <td>[461559, 1176192, 6006779, 5877961, 9526894, 3...</td>\n",
       "    </tr>\n",
       "  </tbody>\n",
       "</table>\n",
       "</div>"
      ],
      "text/plain": [
       "   CustGender  CustLocation  CustAccountBalance  TransactionAmount (INR)  Age  \\\n",
       "0          77           358               94695                       65   44   \n",
       "1          77           663                7584                     6025   30   \n",
       "2          77           372                7180                      541   31   \n",
       "3          77           502               56847                     1000   35   \n",
       "4          77           531               84950                       80   27   \n",
       "\n",
       "   Transaction_weekday  Time_range  \\\n",
       "0                    2           8   \n",
       "1                    2           6   \n",
       "2                    6           8   \n",
       "3                    1           9   \n",
       "4                    7           9   \n",
       "\n",
       "                                            min-hash  \n",
       "0  [461559, 11899915, 3414210, 2356766, 4417968, ...  \n",
       "1  [461559, 1662786, 136784, 917563, 883958, 6497...  \n",
       "2  [461559, 3469000, 3224676, 8970021, 1040441, 6...  \n",
       "3  [461559, 665009, 709613, 4960246, 11952089, 60...  \n",
       "4  [461559, 1176192, 6006779, 5877961, 9526894, 3...  "
      ]
     },
     "execution_count": 123,
     "metadata": {},
     "output_type": "execute_result"
    }
   ],
   "source": [
    "query.head()"
   ]
  },
  {
   "attachments": {},
   "cell_type": "markdown",
   "metadata": {},
   "source": [
    "Jaccard's similarity is defined as:\n",
    "$J(A,B)=\\dfrac{|A \\cap B|}{|A \\cup B|}$"
   ]
  },
  {
   "cell_type": "markdown",
   "metadata": {},
   "source": [
    "Let's now compute the Jaccard Similarity between the query and the original dataframe on the minhash"
   ]
  },
  {
   "cell_type": "code",
   "execution_count": 124,
   "metadata": {},
   "outputs": [],
   "source": [
    "resultDF = pd.DataFrame(columns=['Query Index', 'Data Index-Jaccard Similarity'])"
   ]
  },
  {
   "cell_type": "code",
   "execution_count": 189,
   "metadata": {},
   "outputs": [],
   "source": [
    "#Test with a threshold set to 0.6\n",
    "result = {}\n",
    "\n",
    "start = time.time()\n",
    "threshold = 0.6\n",
    "for idx_1, val_1 in enumerate(query['min-hash']):\n",
    "    jaccard_list = []\n",
    "    index_list = []\n",
    "    for idx_2, val_2 in enumerate(data['min-hash']):\n",
    "        if jaccard(val_1, val_2) > threshold:\n",
    "            index_list.append(idx_2)\n",
    "            jaccard_list.append(jaccard(val_1, val_2))\n",
    "            result.update({idx_1: sorted(list(zip(index_list,jaccard_list)), key = lambda x: x[1], reverse=True)})\n",
    "end = time.time() - start"
   ]
  },
  {
   "cell_type": "code",
   "execution_count": 191,
   "metadata": {},
   "outputs": [
    {
     "name": "stdout",
     "output_type": "stream",
     "text": [
      "86.84473609924316\n"
     ]
    }
   ],
   "source": [
    "#execution time expressed in seconds\n",
    "print(end)"
   ]
  },
  {
   "cell_type": "code",
   "execution_count": 180,
   "metadata": {},
   "outputs": [],
   "source": [
    "resultDF['Query Index'] = list(result.keys())\n",
    "resultDF['Data Index-Jaccard Similarity'] = list(result.values())"
   ]
  },
  {
   "cell_type": "code",
   "execution_count": 179,
   "metadata": {},
   "outputs": [
    {
     "data": {
      "text/html": [
       "<div>\n",
       "<style scoped>\n",
       "    .dataframe tbody tr th:only-of-type {\n",
       "        vertical-align: middle;\n",
       "    }\n",
       "\n",
       "    .dataframe tbody tr th {\n",
       "        vertical-align: top;\n",
       "    }\n",
       "\n",
       "    .dataframe thead th {\n",
       "        text-align: right;\n",
       "    }\n",
       "</style>\n",
       "<table border=\"1\" class=\"dataframe\">\n",
       "  <thead>\n",
       "    <tr style=\"text-align: right;\">\n",
       "      <th></th>\n",
       "      <th>Query Index</th>\n",
       "      <th>Data Index-Jaccard Similarity</th>\n",
       "    </tr>\n",
       "  </thead>\n",
       "  <tbody>\n",
       "    <tr>\n",
       "      <th>0</th>\n",
       "      <td>0</td>\n",
       "      <td>[(687184, 1.0), (76578, 0.75)]</td>\n",
       "    </tr>\n",
       "    <tr>\n",
       "      <th>1</th>\n",
       "      <td>1</td>\n",
       "      <td>[(670151, 1.0), (419461, 0.75), (946865, 0.75)]</td>\n",
       "    </tr>\n",
       "    <tr>\n",
       "      <th>2</th>\n",
       "      <td>2</td>\n",
       "      <td>[(290921, 1.0)]</td>\n",
       "    </tr>\n",
       "    <tr>\n",
       "      <th>3</th>\n",
       "      <td>3</td>\n",
       "      <td>[(588909, 1.0), (736637, 0.625)]</td>\n",
       "    </tr>\n",
       "    <tr>\n",
       "      <th>4</th>\n",
       "      <td>4</td>\n",
       "      <td>[(10697, 1.0), (429598, 0.625), (837934, 0.625)]</td>\n",
       "    </tr>\n",
       "    <tr>\n",
       "      <th>5</th>\n",
       "      <td>5</td>\n",
       "      <td>[(862651, 1.0), (869679, 0.75)]</td>\n",
       "    </tr>\n",
       "    <tr>\n",
       "      <th>6</th>\n",
       "      <td>6</td>\n",
       "      <td>[(569281, 1.0), (139122, 0.75), (139345, 0.75)...</td>\n",
       "    </tr>\n",
       "    <tr>\n",
       "      <th>7</th>\n",
       "      <td>7</td>\n",
       "      <td>[(73174, 1.0), (210548, 0.75), (329966, 0.75),...</td>\n",
       "    </tr>\n",
       "    <tr>\n",
       "      <th>8</th>\n",
       "      <td>8</td>\n",
       "      <td>[(551951, 1.0), (561493, 0.75)]</td>\n",
       "    </tr>\n",
       "    <tr>\n",
       "      <th>9</th>\n",
       "      <td>10</td>\n",
       "      <td>[(116689, 1.0), (480784, 1.0), (193334, 0.75),...</td>\n",
       "    </tr>\n",
       "    <tr>\n",
       "      <th>10</th>\n",
       "      <td>11</td>\n",
       "      <td>[(271982, 1.0), (210686, 0.625)]</td>\n",
       "    </tr>\n",
       "    <tr>\n",
       "      <th>11</th>\n",
       "      <td>12</td>\n",
       "      <td>[(524003, 1.0)]</td>\n",
       "    </tr>\n",
       "    <tr>\n",
       "      <th>12</th>\n",
       "      <td>13</td>\n",
       "      <td>[(256712, 1.0)]</td>\n",
       "    </tr>\n",
       "    <tr>\n",
       "      <th>13</th>\n",
       "      <td>14</td>\n",
       "      <td>[(856165, 1.0)]</td>\n",
       "    </tr>\n",
       "    <tr>\n",
       "      <th>14</th>\n",
       "      <td>15</td>\n",
       "      <td>[(647405, 1.0), (917827, 0.75), (103231, 0.625...</td>\n",
       "    </tr>\n",
       "    <tr>\n",
       "      <th>15</th>\n",
       "      <td>16</td>\n",
       "      <td>[(141610, 1.0), (337743, 0.625), (341434, 0.62...</td>\n",
       "    </tr>\n",
       "    <tr>\n",
       "      <th>16</th>\n",
       "      <td>17</td>\n",
       "      <td>[(172417, 1.0)]</td>\n",
       "    </tr>\n",
       "    <tr>\n",
       "      <th>17</th>\n",
       "      <td>18</td>\n",
       "      <td>[(793697, 1.0), (794774, 1.0), (86007, 0.625),...</td>\n",
       "    </tr>\n",
       "    <tr>\n",
       "      <th>18</th>\n",
       "      <td>19</td>\n",
       "      <td>[(54776, 1.0)]</td>\n",
       "    </tr>\n",
       "    <tr>\n",
       "      <th>19</th>\n",
       "      <td>20</td>\n",
       "      <td>[(496318, 1.0)]</td>\n",
       "    </tr>\n",
       "    <tr>\n",
       "      <th>20</th>\n",
       "      <td>22</td>\n",
       "      <td>[(274894, 1.0), (822010, 0.75), (228466, 0.625)]</td>\n",
       "    </tr>\n",
       "    <tr>\n",
       "      <th>21</th>\n",
       "      <td>24</td>\n",
       "      <td>[(75876, 1.0), (181401, 0.625)]</td>\n",
       "    </tr>\n",
       "    <tr>\n",
       "      <th>22</th>\n",
       "      <td>25</td>\n",
       "      <td>[(153452, 1.0), (151380, 0.625), (219849, 0.625)]</td>\n",
       "    </tr>\n",
       "    <tr>\n",
       "      <th>23</th>\n",
       "      <td>26</td>\n",
       "      <td>[(6288, 1.0), (43737, 0.75)]</td>\n",
       "    </tr>\n",
       "    <tr>\n",
       "      <th>24</th>\n",
       "      <td>27</td>\n",
       "      <td>[(783549, 1.0), (2025, 0.75), (370125, 0.75), ...</td>\n",
       "    </tr>\n",
       "    <tr>\n",
       "      <th>25</th>\n",
       "      <td>28</td>\n",
       "      <td>[(204008, 1.0), (276334, 0.75), (523143, 0.75)]</td>\n",
       "    </tr>\n",
       "    <tr>\n",
       "      <th>26</th>\n",
       "      <td>29</td>\n",
       "      <td>[(642811, 1.0), (645368, 1.0), (646953, 1.0)]</td>\n",
       "    </tr>\n",
       "    <tr>\n",
       "      <th>27</th>\n",
       "      <td>30</td>\n",
       "      <td>[(232484, 1.0)]</td>\n",
       "    </tr>\n",
       "    <tr>\n",
       "      <th>28</th>\n",
       "      <td>32</td>\n",
       "      <td>[(400663, 1.0), (865593, 0.75), (293017, 0.625...</td>\n",
       "    </tr>\n",
       "    <tr>\n",
       "      <th>29</th>\n",
       "      <td>33</td>\n",
       "      <td>[(777177, 1.0)]</td>\n",
       "    </tr>\n",
       "    <tr>\n",
       "      <th>30</th>\n",
       "      <td>34</td>\n",
       "      <td>[(861726, 1.0), (604897, 0.625), (605873, 0.62...</td>\n",
       "    </tr>\n",
       "    <tr>\n",
       "      <th>31</th>\n",
       "      <td>37</td>\n",
       "      <td>[(480666, 0.75), (871715, 0.75), (216791, 0.62...</td>\n",
       "    </tr>\n",
       "    <tr>\n",
       "      <th>32</th>\n",
       "      <td>39</td>\n",
       "      <td>[(734893, 0.75), (577682, 0.625), (580518, 0.6...</td>\n",
       "    </tr>\n",
       "    <tr>\n",
       "      <th>33</th>\n",
       "      <td>40</td>\n",
       "      <td>[(949507, 0.625)]</td>\n",
       "    </tr>\n",
       "    <tr>\n",
       "      <th>34</th>\n",
       "      <td>43</td>\n",
       "      <td>[(207893, 0.625)]</td>\n",
       "    </tr>\n",
       "    <tr>\n",
       "      <th>35</th>\n",
       "      <td>45</td>\n",
       "      <td>[(424410, 0.75)]</td>\n",
       "    </tr>\n",
       "    <tr>\n",
       "      <th>36</th>\n",
       "      <td>47</td>\n",
       "      <td>[(620559, 0.625)]</td>\n",
       "    </tr>\n",
       "    <tr>\n",
       "      <th>37</th>\n",
       "      <td>49</td>\n",
       "      <td>[(150264, 0.75), (288244, 0.625), (357829, 0.6...</td>\n",
       "    </tr>\n",
       "  </tbody>\n",
       "</table>\n",
       "</div>"
      ],
      "text/plain": [
       "    Query Index                      Data Index-Jaccard Similarity\n",
       "0             0                     [(687184, 1.0), (76578, 0.75)]\n",
       "1             1    [(670151, 1.0), (419461, 0.75), (946865, 0.75)]\n",
       "2             2                                    [(290921, 1.0)]\n",
       "3             3                   [(588909, 1.0), (736637, 0.625)]\n",
       "4             4   [(10697, 1.0), (429598, 0.625), (837934, 0.625)]\n",
       "5             5                    [(862651, 1.0), (869679, 0.75)]\n",
       "6             6  [(569281, 1.0), (139122, 0.75), (139345, 0.75)...\n",
       "7             7  [(73174, 1.0), (210548, 0.75), (329966, 0.75),...\n",
       "8             8                    [(551951, 1.0), (561493, 0.75)]\n",
       "9            10  [(116689, 1.0), (480784, 1.0), (193334, 0.75),...\n",
       "10           11                   [(271982, 1.0), (210686, 0.625)]\n",
       "11           12                                    [(524003, 1.0)]\n",
       "12           13                                    [(256712, 1.0)]\n",
       "13           14                                    [(856165, 1.0)]\n",
       "14           15  [(647405, 1.0), (917827, 0.75), (103231, 0.625...\n",
       "15           16  [(141610, 1.0), (337743, 0.625), (341434, 0.62...\n",
       "16           17                                    [(172417, 1.0)]\n",
       "17           18  [(793697, 1.0), (794774, 1.0), (86007, 0.625),...\n",
       "18           19                                     [(54776, 1.0)]\n",
       "19           20                                    [(496318, 1.0)]\n",
       "20           22   [(274894, 1.0), (822010, 0.75), (228466, 0.625)]\n",
       "21           24                    [(75876, 1.0), (181401, 0.625)]\n",
       "22           25  [(153452, 1.0), (151380, 0.625), (219849, 0.625)]\n",
       "23           26                       [(6288, 1.0), (43737, 0.75)]\n",
       "24           27  [(783549, 1.0), (2025, 0.75), (370125, 0.75), ...\n",
       "25           28    [(204008, 1.0), (276334, 0.75), (523143, 0.75)]\n",
       "26           29      [(642811, 1.0), (645368, 1.0), (646953, 1.0)]\n",
       "27           30                                    [(232484, 1.0)]\n",
       "28           32  [(400663, 1.0), (865593, 0.75), (293017, 0.625...\n",
       "29           33                                    [(777177, 1.0)]\n",
       "30           34  [(861726, 1.0), (604897, 0.625), (605873, 0.62...\n",
       "31           37  [(480666, 0.75), (871715, 0.75), (216791, 0.62...\n",
       "32           39  [(734893, 0.75), (577682, 0.625), (580518, 0.6...\n",
       "33           40                                  [(949507, 0.625)]\n",
       "34           43                                  [(207893, 0.625)]\n",
       "35           45                                   [(424410, 0.75)]\n",
       "36           47                                  [(620559, 0.625)]\n",
       "37           49  [(150264, 0.75), (288244, 0.625), (357829, 0.6..."
      ]
     },
     "execution_count": 179,
     "metadata": {},
     "output_type": "execute_result"
    }
   ],
   "source": [
    "resultDF"
   ]
  },
  {
   "cell_type": "code",
   "execution_count": 194,
   "metadata": {},
   "outputs": [],
   "source": [
    "#Test with a threshold set to 0.7\n",
    "result = {}\n",
    "threshold = 0.7\n",
    "\n",
    "start = time.time()\n",
    "for idx_1, val_1 in enumerate(query['min-hash']):\n",
    "    jaccard_list = []\n",
    "    index_list = []\n",
    "    for idx_2, val_2 in enumerate(data['min-hash']):\n",
    "        if jaccard(val_1, val_2) > threshold:\n",
    "            index_list.append(idx_2)\n",
    "            jaccard_list.append(jaccard(val_1, val_2))\n",
    "            result.update({idx_1: sorted(list(zip(index_list,jaccard_list)), key = lambda x: x[1], reverse=True)})\n",
    "end = time.time() - start"
   ]
  },
  {
   "cell_type": "code",
   "execution_count": 195,
   "metadata": {},
   "outputs": [
    {
     "data": {
      "text/plain": [
       "87.40046095848083"
      ]
     },
     "execution_count": 195,
     "metadata": {},
     "output_type": "execute_result"
    }
   ],
   "source": [
    "#execution time expressed in seconds\n",
    "end"
   ]
  },
  {
   "cell_type": "code",
   "execution_count": 125,
   "metadata": {},
   "outputs": [],
   "source": [
    "#Test with a threshold set to 0.8\n",
    "result = {}\n",
    "\n",
    "threshold = 0.8\n",
    "\n",
    "start = time.time()\n",
    "for idx_1, val_1 in enumerate(query['min-hash']):\n",
    "    jaccard_list = []\n",
    "    index_list = []\n",
    "    for idx_2, val_2 in enumerate(data['min-hash']):\n",
    "        if jaccard(val_1, val_2) > threshold:\n",
    "            index_list.append(idx_2)\n",
    "            jaccard_list.append(jaccard(val_1, val_2))\n",
    "            result.update({idx_1: list(zip(index_list,jaccard_list))})\n",
    "\n",
    "end = time.time() - start"
   ]
  },
  {
   "cell_type": "code",
   "execution_count": 126,
   "metadata": {},
   "outputs": [
    {
     "data": {
      "text/plain": [
       "85.3985641002655"
      ]
     },
     "execution_count": 126,
     "metadata": {},
     "output_type": "execute_result"
    }
   ],
   "source": [
    "#execution time expressed in seconds\n",
    "end"
   ]
  },
  {
   "cell_type": "code",
   "execution_count": 127,
   "metadata": {},
   "outputs": [
    {
     "data": {
      "text/plain": [
       "{0: [(687184, 1.0)],\n",
       " 1: [(670151, 1.0)],\n",
       " 2: [(290921, 1.0)],\n",
       " 3: [(588909, 1.0)],\n",
       " 4: [(10697, 1.0)],\n",
       " 5: [(862651, 1.0)],\n",
       " 6: [(569281, 1.0)],\n",
       " 7: [(73174, 1.0)],\n",
       " 8: [(551951, 1.0)],\n",
       " 10: [(116689, 1.0), (480784, 1.0)],\n",
       " 11: [(271982, 1.0)],\n",
       " 12: [(524003, 1.0)],\n",
       " 13: [(256712, 1.0)],\n",
       " 14: [(856165, 1.0)],\n",
       " 15: [(647405, 1.0)],\n",
       " 16: [(141610, 1.0)],\n",
       " 17: [(172417, 1.0)],\n",
       " 18: [(793697, 1.0), (794774, 1.0)],\n",
       " 19: [(54776, 1.0)],\n",
       " 20: [(496318, 1.0)],\n",
       " 22: [(274894, 1.0)],\n",
       " 24: [(75876, 1.0)],\n",
       " 25: [(153452, 1.0)],\n",
       " 26: [(6288, 1.0)],\n",
       " 27: [(783549, 1.0)],\n",
       " 28: [(204008, 1.0)],\n",
       " 29: [(642811, 1.0), (645368, 1.0), (646953, 1.0)],\n",
       " 30: [(232484, 1.0)],\n",
       " 32: [(400663, 1.0)],\n",
       " 33: [(777177, 1.0)],\n",
       " 34: [(861726, 1.0)]}"
      ]
     },
     "execution_count": 127,
     "metadata": {},
     "output_type": "execute_result"
    }
   ],
   "source": [
    "result"
   ]
  },
  {
   "cell_type": "code",
   "execution_count": 143,
   "metadata": {},
   "outputs": [
    {
     "data": {
      "text/plain": [
       "CustGender                        M\n",
       "CustLocation                  DELHI\n",
       "CustAccountBalance         94695.61\n",
       "TransactionAmount (INR)        65.0\n",
       "Age                              44\n",
       "Transaction_weekday               2\n",
       "Time_range                        8\n",
       "Name: 0, dtype: object"
      ]
     },
     "execution_count": 143,
     "metadata": {},
     "output_type": "execute_result"
    }
   ],
   "source": [
    "#double-check\n",
    "query_cp.iloc[0,:]"
   ]
  },
  {
   "cell_type": "code",
   "execution_count": 144,
   "metadata": {},
   "outputs": [
    {
     "data": {
      "text/plain": [
       "CustGender                        M\n",
       "CustLocation                  DELHI\n",
       "CustAccountBalance         94695.61\n",
       "TransactionAmount (INR)        65.0\n",
       "Age                              44\n",
       "Transaction_weekday               2\n",
       "Time_range                        8\n",
       "Name: 687184, dtype: object"
      ]
     },
     "execution_count": 144,
     "metadata": {},
     "output_type": "execute_result"
    }
   ],
   "source": [
    "data_cp.iloc[687184,:]"
   ]
  },
  {
   "cell_type": "markdown",
   "metadata": {},
   "source": [
    "## 2. Grouping customers together!"
   ]
  },
  {
   "cell_type": "markdown",
   "metadata": {},
   "source": [
    "### 2.1 Getting your data + feature engineering"
   ]
  },
  {
   "cell_type": "code",
   "execution_count": 1,
   "metadata": {},
   "outputs": [],
   "source": [
    "import pandas as pd\n",
    "from datetime import datetime\n",
    "from scipy import stats\n",
    "import numpy as np"
   ]
  },
  {
   "cell_type": "code",
   "execution_count": 4,
   "metadata": {},
   "outputs": [],
   "source": [
    "df = pd.read_csv('archive.zip') #reading the file "
   ]
  },
  {
   "cell_type": "code",
   "execution_count": 5,
   "metadata": {},
   "outputs": [],
   "source": [
    "df.dropna(inplace = True) #dropping Nan values "
   ]
  },
  {
   "cell_type": "code",
   "execution_count": 6,
   "metadata": {},
   "outputs": [],
   "source": [
    "#converting timestamps object in datetime objects \n",
    "df.CustomerDOB = pd.to_datetime(df.CustomerDOB)\n",
    "df.TransactionDate = pd.to_datetime(df.TransactionDate)\n",
    "df.TransactionTime = df.TransactionTime.apply(lambda x: datetime.strptime(str(x).zfill(6), '%H%M%S'))"
   ]
  },
  {
   "cell_type": "markdown",
   "metadata": {},
   "source": [
    "Replace (Date of Birth == 1800) and (Date of Birth > 2010) with _NaN_ in order to not lose the other information"
   ]
  },
  {
   "cell_type": "code",
   "execution_count": 7,
   "metadata": {},
   "outputs": [],
   "source": [
    "df[\"CustomerDOB\"] = df[\"CustomerDOB\"].dt.year.replace(1800, np.NaN).astype(\"datetime64[ns]\")\n",
    "df[\"CustomerDOB\"] = df[\"CustomerDOB\"].dt.year.replace(r\"201\\d+\", np.NaN).astype(\"datetime64[ns]\")"
   ]
  },
  {
   "cell_type": "markdown",
   "metadata": {},
   "source": [
    "#### 2.1.2 Required features"
   ]
  },
  {
   "cell_type": "code",
   "execution_count": 8,
   "metadata": {},
   "outputs": [],
   "source": [
    "# a) Number of transactions\n",
    "nt = df.groupby('CustomerID').count().TransactionID.reset_index(name='NumTransactions')\n",
    "new_feature = pd.DataFrame(nt)"
   ]
  },
  {
   "cell_type": "code",
   "execution_count": 9,
   "metadata": {},
   "outputs": [],
   "source": [
    "# b) Number of transactions with a balance bigger than 100 USD\n",
    "df.rename(columns = {'TransactionAmount (INR)':'TransactionAmount'}, inplace = True)\n",
    "ntbb = df[df.TransactionAmount > 100].groupby('CustomerID').count().TransactionID.reset_index(name='Ntbb')\n",
    "new_feature = pd.merge(new_feature, ntbb, on = ['CustomerID', 'CustomerID'])"
   ]
  },
  {
   "cell_type": "code",
   "execution_count": 10,
   "metadata": {},
   "outputs": [],
   "source": [
    "# c) Average amount of the transactions\n",
    "aat = df.groupby('CustomerID').mean().TransactionAmount.reset_index(name='AveAmTransactions')\n",
    "new_feature = pd.merge(new_feature, aat, on = ['CustomerID', 'CustomerID'])"
   ]
  },
  {
   "cell_type": "code",
   "execution_count": 11,
   "metadata": {},
   "outputs": [],
   "source": [
    "# d) Average balance\n",
    "ab = df.groupby('CustomerID').mean().CustAccountBalance.reset_index(name='Average Balance')\n",
    "new_feature = pd.merge(new_feature, ab, on = ['CustomerID', 'CustomerID'])"
   ]
  },
  {
   "cell_type": "code",
   "execution_count": 12,
   "metadata": {},
   "outputs": [],
   "source": [
    "# e) Average difference between the balance and the transaction amount for each customer\n",
    "df['utilisation'] = df['CustAccountBalance'] - df['TransactionAmount'] #Utilisations negative\n",
    "ut = df.groupby('CustomerID').mean().utilisation.reset_index(name='Utilisation')\n",
    "new_feature = pd.merge(new_feature, ut, on = ['CustomerID', 'CustomerID'])"
   ]
  },
  {
   "cell_type": "code",
   "execution_count": 13,
   "metadata": {},
   "outputs": [],
   "source": [
    "# f) Most common gender of the customer\n",
    "mcg = df.groupby('CustomerID')['CustGender'].agg(lambda x: stats.mode(x)[0][0]).reset_index(name='MostCommonGender')\n",
    "new_feature = pd.merge(new_feature, mcg, on = ['CustomerID', 'CustomerID'])"
   ]
  },
  {
   "cell_type": "code",
   "execution_count": 14,
   "metadata": {},
   "outputs": [],
   "source": [
    "# h) Most frequent location of the customer \n",
    "mfl = df.groupby('CustomerID')['CustLocation'].agg(lambda x: stats.mode(x)[0][0]).reset_index(name='MostFreqLocation')\n",
    "new_feature = pd.merge(new_feature, mfl, on = ['CustomerID', 'CustomerID'])"
   ]
  },
  {
   "cell_type": "markdown",
   "metadata": {},
   "source": [
    "#### 2.1.3 New features"
   ]
  },
  {
   "cell_type": "markdown",
   "metadata": {},
   "source": [
    "Our features:\n",
    "1. Average age\n",
    "2. Number of users\n",
    "3. Quantiles over the account balance\n",
    "4. Presence of transactions over 50'000\n",
    "5. Transaction amount variance\n",
    "6. Quantiles over the average transaction amount\n",
    "7. Number of different places\n",
    "8. Filter if the account has a transaction in the top 25 most frequent places\n",
    "9. Presence of minors in the account\n",
    "10. Mean hour for each customer\n",
    "11. Most common hour for each customer\n",
    "12. Number of women\n",
    "13. Number of men\n",
    "14. Max purchase\n",
    "15. Min purchase\n",
    "16. Avearage Transaction / Balance (%)\n",
    "17. Min Balance\n",
    "18. Max Balance\n",
    "19. Presence of recurring transactions (same tr. amount)\n",
    "20. Transaction Distance (in days)"
   ]
  },
  {
   "cell_type": "code",
   "execution_count": 15,
   "metadata": {},
   "outputs": [],
   "source": [
    "# 1) Average age of CustomerID\n",
    "df['CustAge'] = round(((df.TransactionDate - df.CustomerDOB) / np.timedelta64(1, 'Y')), 0)\n",
    "average = df.groupby('CustomerID').mean().CustAge.reset_index(name='AverageAge')\n",
    "new_feature = pd.merge(new_feature, average, on = ['CustomerID', 'CustomerID'])"
   ]
  },
  {
   "cell_type": "code",
   "execution_count": 16,
   "metadata": {},
   "outputs": [],
   "source": [
    "# 2) Number of users per CustomerID\n",
    "nu = df.groupby('CustomerID')['CustomerID'].count().reset_index(name='UsersPerCustomerID')\n",
    "new_feature = pd.merge(new_feature, nu, on = ['CustomerID', 'CustomerID'])"
   ]
  },
  {
   "cell_type": "code",
   "execution_count": 17,
   "metadata": {},
   "outputs": [],
   "source": [
    "# 3) Quantiles over the account balance distribution\n",
    "q = list(df[\"CustAccountBalance\"].quantile([0,.25,.50,.75,.95]))\n",
    "new_feature[\"BalanceQuant\"] = df.apply(lambda x: .95 if x.CustAccountBalance >= q[4] else .75 if x.CustAccountBalance >= q[3]\\\n",
    "                                     else .50 if x.CustAccountBalance >= q[2] else .25 if x.CustAccountBalance >= q[1] else 0, axis=1)"
   ]
  },
  {
   "cell_type": "code",
   "execution_count": 18,
   "metadata": {},
   "outputs": [],
   "source": [
    "# 4) Presence of transactions over 50'000\n",
    "new_feature[\"TrOver50k\"]=df[\"CustomerID\"].isin(df[df[\"TransactionAmount\"]>=50000].CustomerID)"
   ]
  },
  {
   "cell_type": "code",
   "execution_count": 19,
   "metadata": {},
   "outputs": [],
   "source": [
    "# 5) Transaction amount variance\n",
    "tav = df.groupby('CustomerID').var().TransactionAmount.reset_index(name='VarAmTransactions')\n",
    "new_feature = pd.merge(new_feature, tav, on = ['CustomerID', 'CustomerID'])"
   ]
  },
  {
   "cell_type": "code",
   "execution_count": 20,
   "metadata": {},
   "outputs": [],
   "source": [
    "# 6) Quantiles over the average transaction amount\n",
    "q = list(new_feature[\"AveAmTransactions\"].quantile([0,.25,.50,.75,.95]))\n",
    "new_feature[\"AveTrQuant\"] = new_feature.apply(lambda x: .95 if x.AveAmTransactions >= q[4] else .75 if x.AveAmTransactions >= q[3]\\\n",
    "                                     else .50 if x.AveAmTransactions >= q[2] else .25 if x.AveAmTransactions >= q[1] else 0, axis=1)"
   ]
  },
  {
   "cell_type": "code",
   "execution_count": 21,
   "metadata": {},
   "outputs": [],
   "source": [
    "# 7) Number of different places\n",
    "diff = df.groupby(\"CustomerID\").CustLocation.count().reset_index(name='DifferentLocations')\n",
    "new_feature = pd.merge(new_feature, diff, on = ['CustomerID', 'CustomerID'])"
   ]
  },
  {
   "cell_type": "code",
   "execution_count": 22,
   "metadata": {},
   "outputs": [],
   "source": [
    "# 8) Filter if the account has a transaction in the top 25 most frequent places\n",
    "places = df.groupby(\"CustLocation\").CustomerID.count().sort_values(ascending=False)\n",
    "top_places = places.head(int(len(places)*0.25))\n",
    "has_tx = df[df.apply(lambda x: x.CustLocation in top_places.index, axis=1)].CustomerID.unique()\n",
    "new_feature[\"TopPlaces\"] = df[\"CustomerID\"].isin(has_tx)"
   ]
  },
  {
   "cell_type": "code",
   "execution_count": 23,
   "metadata": {},
   "outputs": [],
   "source": [
    "# 9) Presence of minors in the account\n",
    "new_feature[\"WithChildren\"]=df[\"CustomerID\"].isin(df[df[\"CustAge\"]<18].CustomerID)"
   ]
  },
  {
   "cell_type": "code",
   "execution_count": 24,
   "metadata": {},
   "outputs": [],
   "source": [
    "# 10) Mean hour for each customer\n",
    "mh = df.groupby(\"CustomerID\").TransactionTime.mean().apply(lambda x: x.hour).reset_index(name='MeanHour')\n",
    "new_feature = pd.merge(new_feature, mh, on = ['CustomerID', 'CustomerID']) "
   ]
  },
  {
   "cell_type": "code",
   "execution_count": 25,
   "metadata": {},
   "outputs": [],
   "source": [
    "# 11) Most common hour for each customer\n",
    "df[\"TrHour\"] = df.apply(lambda x: x.TransactionTime.hour,axis=1)\n",
    "moh = df.groupby(\"CustomerID\").TrHour.agg(lambda x: pd.Series.mode(x).iloc[0]).reset_index(name='MostCommonHour')\n",
    "new_feature = pd.merge(new_feature, moh, on = ['CustomerID', 'CustomerID']) "
   ]
  },
  {
   "cell_type": "code",
   "execution_count": 26,
   "metadata": {},
   "outputs": [],
   "source": [
    "# 12) Number of women\n",
    "wn = df[df[\"CustGender\"]==\"F\"].groupby(\"CustomerID\").CustomerDOB.count().reset_index(name='NumOfWomen')\n",
    "new_feature = pd.merge(new_feature, wn, on = ['CustomerID', 'CustomerID']) "
   ]
  },
  {
   "cell_type": "code",
   "execution_count": 27,
   "metadata": {},
   "outputs": [],
   "source": [
    "# 13) Number of men\n",
    "mn = df[df[\"CustGender\"]==\"M\"].groupby(\"CustomerID\").CustomerDOB.count().reset_index(name='NumOfMen')\n",
    "new_feature = pd.merge(new_feature, mn, on = ['CustomerID', 'CustomerID']) "
   ]
  },
  {
   "cell_type": "code",
   "execution_count": 28,
   "metadata": {},
   "outputs": [],
   "source": [
    "# 14) Max purchase\n",
    "mxp =  df.groupby('CustomerID').TransactionAmount.max().reset_index(name='MaxTransaction')\n",
    "new_feature = pd.merge(new_feature, mxp, on = ['CustomerID', 'CustomerID'])"
   ]
  },
  {
   "cell_type": "code",
   "execution_count": 29,
   "metadata": {},
   "outputs": [],
   "source": [
    "# 15) Min purchase\n",
    "mnp =  df.groupby('CustomerID').TransactionAmount.min().reset_index(name='MinTransaction')\n",
    "new_feature = pd.merge(new_feature, mnp, on = ['CustomerID', 'CustomerID'])"
   ]
  },
  {
   "cell_type": "code",
   "execution_count": 30,
   "metadata": {},
   "outputs": [],
   "source": [
    "# 16) Transaction / Balance (%)\n",
    "df['TransactionBalance'] = (df['TransactionAmount'] * 100) / (df['CustAccountBalance']+df['TransactionAmount'])\n",
    "atb =  df.groupby('CustomerID').TransactionBalance.mean().reset_index(name='Ave_Transaction/Balance')\n",
    "new_feature = pd.merge(new_feature, atb, on = ['CustomerID', 'CustomerID'])"
   ]
  },
  {
   "cell_type": "code",
   "execution_count": 31,
   "metadata": {},
   "outputs": [],
   "source": [
    "# 17) Min Balance\n",
    "mnp =  df.groupby('CustomerID').CustAccountBalance.min().reset_index(name='MinBalance')\n",
    "new_feature = pd.merge(new_feature, mnp, on = ['CustomerID', 'CustomerID'])"
   ]
  },
  {
   "cell_type": "code",
   "execution_count": 32,
   "metadata": {},
   "outputs": [],
   "source": [
    "# 18) Max Balance\n",
    "mnp =  df.groupby('CustomerID').CustAccountBalance.max().reset_index(name='MaxBalance')\n",
    "new_feature = pd.merge(new_feature, mnp, on = ['CustomerID', 'CustomerID'])"
   ]
  },
  {
   "cell_type": "code",
   "execution_count": 33,
   "metadata": {},
   "outputs": [],
   "source": [
    "# 19) Presence of recurring transactions\n",
    "rec = df.groupby([\"CustomerID\",\"TransactionAmount\"]).TransactionID.count().groupby(\"CustomerID\").max().reset_index(name='RecurringTr')\n",
    "new_feature = pd.merge(new_feature, rec, on = ['CustomerID', 'CustomerID'])"
   ]
  },
  {
   "cell_type": "code",
   "execution_count": 34,
   "metadata": {},
   "outputs": [],
   "source": [
    "# 20) Transaction Distance (in days)\n",
    "dif = df.sort_values(['CustomerID','TransactionDate'])\\\n",
    "           .groupby('CustomerID')['TransactionDate']\\\n",
    "           .diff().dt.days.fillna(0).rename(\"TrDayDiff\")\n",
    "\n",
    "new_feature.sort_values(\"CustomerID\",inplace=True)\n",
    "new_feature[\"TrDayDiff\"] = dif"
   ]
  },
  {
   "cell_type": "markdown",
   "metadata": {},
   "source": [
    "The result is a DataFrame with 27 features:"
   ]
  },
  {
   "cell_type": "code",
   "execution_count": 37,
   "metadata": {
    "scrolled": true,
    "tags": []
   },
   "outputs": [
    {
     "data": {
      "text/plain": [
       "Index(['CustomerID', 'NumTransactions', 'Ntbb', 'AveAmTransactions',\n",
       "       'Average Balance', 'Utilisation', 'MostCommonGender',\n",
       "       'MostFreqLocation', 'AverageAge', 'UsersPerCustomerID', 'BalanceQuant',\n",
       "       'TrOver50k', 'VarAmTransactions', 'AveTrQuant', 'DifferentLocations',\n",
       "       'TopPlaces', 'WithChildren', 'MeanHour', 'MostCommonHour', 'NumOfWomen',\n",
       "       'NumOfMen', 'MaxTransaction', 'MinTransaction',\n",
       "       'Ave_Transaction/Balance', 'MinBalance', 'MaxBalance', 'RecurringTr',\n",
       "       'TrDayDiff'],\n",
       "      dtype='object')"
      ]
     },
     "execution_count": 37,
     "metadata": {},
     "output_type": "execute_result"
    }
   ],
   "source": [
    "#new_feature.to_csv(\"new_feature.csv\")\n",
    "new_feature.columns"
   ]
  },
  {
   "cell_type": "markdown",
   "metadata": {
    "tags": []
   },
   "source": [
    "# 2.2 Choose your features"
   ]
  },
  {
   "cell_type": "code",
   "execution_count": 54,
   "metadata": {},
   "outputs": [],
   "source": [
    "from sklearn import preprocessing\n",
    "from sklearn.decomposition import PCA\n",
    "from sklearn.preprocessing import MinMaxScaler, MaxAbsScaler, RobustScaler\n",
    "import matplotlib.pyplot as plt"
   ]
  },
  {
   "cell_type": "markdown",
   "metadata": {},
   "source": [
    "### 2.2.1 Preprocessing\n",
    "Encoding categorical features:\n",
    "```python\n",
    "\"\"\"Save the mapping array\"\"\"\n",
    "#enc = preprocessing.LabelEncoder()\n",
    "np.save('array.npy', enc.classes_) # to save the mapping\n",
    "enc.classes_ = np.load('array.npy') # for reuse\n",
    "```"
   ]
  },
  {
   "cell_type": "code",
   "execution_count": 39,
   "metadata": {},
   "outputs": [],
   "source": [
    "features = [\"MostFreqLocation\",\"MostCommonGender\",\"TrOver50k\",\"TopPlaces\",\"WithChildren\"]  # all non-numeric features\n",
    "for f in features:\n",
    "    enc = preprocessing.LabelEncoder()\n",
    "    enc.fit(new_feature[f])\n",
    "    new_feature[f] = enc.transform(new_feature[f])\n",
    "    #np.save(f+'.npy', enc.classes_)"
   ]
  },
  {
   "cell_type": "markdown",
   "metadata": {},
   "source": [
    "Here we try different methods to scale our data"
   ]
  },
  {
   "cell_type": "code",
   "execution_count": 41,
   "metadata": {},
   "outputs": [],
   "source": [
    "scaler = MinMaxScaler()\n",
    "scaled = scaler.fit_transform(new_feature.dropna().drop(\"CustomerID\",axis=1))"
   ]
  },
  {
   "cell_type": "code",
   "execution_count": 48,
   "metadata": {},
   "outputs": [],
   "source": [
    "scaler2 = MaxAbsScaler()\n",
    "scaled2 = scaler2.fit_transform(new_feature.dropna().drop(\"CustomerID\",axis=1))"
   ]
  },
  {
   "cell_type": "code",
   "execution_count": 55,
   "metadata": {},
   "outputs": [],
   "source": [
    "scaler3 = RobustScaler()\n",
    "scaled3 = scaler3.fit_transform(new_feature.dropna().drop(\"CustomerID\",axis=1))"
   ]
  },
  {
   "cell_type": "markdown",
   "metadata": {},
   "source": [
    "### 2.2.2 PCA\n",
    "Checking which method achieves the best performance in the PCA"
   ]
  },
  {
   "cell_type": "code",
   "execution_count": null,
   "metadata": {},
   "outputs": [],
   "source": [
    "new_feature.dropna().drop(\"CustomerID\",axis=1)"
   ]
  },
  {
   "cell_type": "markdown",
   "metadata": {},
   "source": [
    "MinMax Scaler"
   ]
  },
  {
   "cell_type": "code",
   "execution_count": 44,
   "metadata": {},
   "outputs": [
    {
     "name": "stdout",
     "output_type": "stream",
     "text": [
      "Variance: 0.3713217293993548\n"
     ]
    }
   ],
   "source": [
    "pca = PCA(n_components=2)\n",
    "red_data = pca.fit_transform(scaled)\n",
    "print(\"Variance:\",sum(pca.explained_variance_ratio_))"
   ]
  },
  {
   "cell_type": "markdown",
   "metadata": {},
   "source": [
    "MaxAbs Scaler"
   ]
  },
  {
   "cell_type": "code",
   "execution_count": 50,
   "metadata": {},
   "outputs": [
    {
     "name": "stdout",
     "output_type": "stream",
     "text": [
      "Variance: 0.42329431614149404\n"
     ]
    }
   ],
   "source": [
    "pca = PCA(n_components=2)\n",
    "red_data = pca.fit_transform(scaled2)\n",
    "print(\"Variance:\",sum(pca.explained_variance_ratio_))"
   ]
  },
  {
   "cell_type": "markdown",
   "metadata": {},
   "source": [
    "Robust Scaler"
   ]
  },
  {
   "cell_type": "code",
   "execution_count": 61,
   "metadata": {
    "scrolled": true
   },
   "outputs": [
    {
     "name": "stdout",
     "output_type": "stream",
     "text": [
      "Variance: 0.9977161188280766\n"
     ]
    }
   ],
   "source": [
    "pca = PCA(n_components=2)\n",
    "red_data = pca.fit_transform(scaled3)\n",
    "print(\"Variance:\",sum(pca.explained_variance_ratio_))"
   ]
  },
  {
   "cell_type": "markdown",
   "metadata": {},
   "source": [
    "From all the different methods above, we chose to use the [RobustScaler](https://scikit-learn.org/stable/modules/generated/sklearn.preprocessing.RobustScaler.html#sklearn.preprocessing.RobustScaler) (scale features using statistics that are robust to outliers) in order to achieve the minimum variance loss."
   ]
  },
  {
   "cell_type": "code",
   "execution_count": 62,
   "metadata": {},
   "outputs": [],
   "source": [
    "np.save('reduced_data_rob.npy', red_data)"
   ]
  },
  {
   "cell_type": "code",
   "execution_count": 65,
   "metadata": {},
   "outputs": [
    {
     "data": {
      "image/png": "[encoded data removed]",
      "text/plain": [
       "<Figure size 432x288 with 1 Axes>"
      ]
     },
     "metadata": {
      "needs_background": "light"
     },
     "output_type": "display_data"
    }
   ],
   "source": [
    "fig, ax = plt.subplots()\n",
    "plt.grid(True,zorder=0, which=\"both\", ls=\"-\")\n",
    "ax.scatter(red_data[:,0],red_data[:,1], s=60, alpha=0.7, edgecolors=\"k\",zorder=3)\n",
    "plt.title(\"Reduced dataset on a logaritmic scale\")\n",
    "ax.set_yscale(\"log\")\n",
    "ax.set_xscale(\"log\")"
   ]
  },
  {
   "cell_type": "markdown",
   "metadata": {},
   "source": [
    "# 2.3 Clustering!"
   ]
  },
  {
   "cell_type": "code",
   "execution_count": 24,
   "metadata": {},
   "outputs": [],
   "source": [
    "import pyspark\n",
    "import numpy as np\n",
    "from pyspark import SparkContext, SparkConf\n",
    "from tqdm import tqdm\n",
    "import pandas as pd\n",
    "import matplotlib.pyplot as plt"
   ]
  },
  {
   "cell_type": "code",
   "execution_count": 2,
   "metadata": {},
   "outputs": [],
   "source": [
    "import warnings\n",
    "warnings.filterwarnings(\"ignore\")"
   ]
  },
  {
   "cell_type": "code",
   "execution_count": 81,
   "metadata": {},
   "outputs": [],
   "source": [
    "data = np.load('reduced_data_rob.npy')"
   ]
  },
  {
   "cell_type": "code",
   "execution_count": 4,
   "metadata": {},
   "outputs": [
    {
     "name": "stderr",
     "output_type": "stream",
     "text": [
      "Setting default log level to \"WARN\".\n",
      "To adjust logging level use sc.setLogLevel(newLevel). For SparkR, use setLogLevel(newLevel).\n"
     ]
    },
    {
     "name": "stdout",
     "output_type": "stream",
     "text": [
      "22/12/09 09:36:57 WARN NativeCodeLoader: Unable to load native-hadoop library for your platform... using builtin-java classes where applicable\n"
     ]
    }
   ],
   "source": [
    "conf = SparkConf().setAppName(\"Prova\").setMaster(\"local\")\n",
    "sc = SparkContext(conf=conf)"
   ]
  },
  {
   "cell_type": "markdown",
   "metadata": {},
   "source": [
    "Input:"
   ]
  },
  {
   "cell_type": "code",
   "execution_count": 82,
   "metadata": {},
   "outputs": [],
   "source": [
    "points = list(zip(data[:,0], data[:,1]))\n",
    "rdd = sc.parallelize(points)\n",
    "cent = rdd.takeSample(withReplacement=False, num=3) # initial random centroid"
   ]
  },
  {
   "cell_type": "markdown",
   "metadata": {},
   "source": [
    "Hand-written implementation of the k-means algorithm using pySpark (Map-Reduce Framework)"
   ]
  },
  {
   "cell_type": "code",
   "execution_count": 2,
   "metadata": {},
   "outputs": [],
   "source": [
    "def min_distance(x, c:list):\n",
    "    \"\"\"Compute the distance between a point and every centroid and return the corresponding index\"\"\"\n",
    "    x, c = np.array(x), np.array(c)\n",
    "    dist = np.array(list(map(lambda a: np.linalg.norm(a - x)**2, c)))\n",
    "    return np.argmin(dist)"
   ]
  },
  {
   "cell_type": "code",
   "execution_count": 3,
   "metadata": {},
   "outputs": [],
   "source": [
    "def squared_distance(x, c:list):\n",
    "    \"\"\"Compute the squared error between a point and every centroid and return the minimum\"\"\"\n",
    "    x, c = np.array(x), np.array(c)\n",
    "    dist = np.array(list(map(lambda a: np.linalg.norm(a - x)**2, c)))\n",
    "    return np.min(dist)"
   ]
  },
  {
   "cell_type": "code",
   "execution_count": 7,
   "metadata": {},
   "outputs": [],
   "source": [
    "def k_means(rdd, cent):\n",
    "    \"\"\"Returns clustered data\"\"\"\n",
    "    belong = rdd.map(lambda x: (min_distance(x, cent), x)) # which cluster each data belongs to\n",
    "    return pd.DataFrame(belong.collect())\n",
    "    \n",
    "def centroids(rdd, cent):\n",
    "    \"\"\"Computing the new centroids through map-reduce\"\"\"\n",
    "    belong = rdd.map(lambda x: (min_distance(x, cent), x)) # which cluster each data belongs to\n",
    "    count = belong.countByKey()\n",
    "    summation = belong.reduceByKey(lambda x, y: (x[0]+y[0],  x[1]+y[1])) # pairwise summation over the values\n",
    "    cent = summation.map(lambda x: (np.array(x[1])/ count[x[0]]))\n",
    "    return cent.collect()\n",
    "\n",
    "def var(rdd, cent):\n",
    "    \"\"\"Total Variance\"\"\"\n",
    "    accum = sc.accumulator(0)\n",
    "    rdd.map(lambda x: squared_distance(x, cent)).foreach(lambda x: accum.add(x))\n",
    "    return accum.value"
   ]
  },
  {
   "cell_type": "code",
   "execution_count": 9,
   "metadata": {},
   "outputs": [],
   "source": [
    "def iterating(k, rdd, threshold = 10):\n",
    "    \"\"\"Iteratively compute the centroids until convergence (max 20 iterations)\"\"\"\n",
    "    cent = rdd.takeSample(withReplacement=False, num=k) # initial random centroid    \n",
    "    for i in range(20):\n",
    "        prev_cent = cent\n",
    "        cent = centroids(rdd, cent)\n",
    "        distance = np.linalg.norm(np.array(prev_cent)-np.array(cent))\n",
    "        if distance < threshold:\n",
    "            break\n",
    "    variance = var(rdd, cent)\n",
    "    clusters = k_means(rdd, cent)\n",
    "    return clusters, variance"
   ]
  },
  {
   "cell_type": "markdown",
   "metadata": {},
   "source": [
    "Choosing the optimal k through the **Elbow Method**"
   ]
  },
  {
   "cell_type": "code",
   "execution_count": 83,
   "metadata": {},
   "outputs": [
    {
     "name": "stderr",
     "output_type": "stream",
     "text": [
      "100%|██████████| 8/8 [16:42<00:00, 125.31s/it]                                  \n"
     ]
    }
   ],
   "source": [
    "sc.setLogLevel(\"OFF\")\n",
    "l = []\n",
    "for k in tqdm(range(3, 11)):\n",
    "    clusters, variance = iterating(k, rdd, threshold = 10)\n",
    "    l.append(variance)"
   ]
  },
  {
   "cell_type": "code",
   "execution_count": 87,
   "metadata": {},
   "outputs": [
    {
     "data": {
      "text/plain": [
       "<AxesSubplot:title={'center':'Elbow Method'}, xlabel='k'>"
      ]
     },
     "execution_count": 87,
     "metadata": {},
     "output_type": "execute_result"
    },
    {
     "data": {
      "image/png": "[encoded data removed]",
      "text/plain": [
       "<Figure size 432x288 with 1 Axes>"
      ]
     },
     "metadata": {
      "needs_background": "light"
     },
     "output_type": "display_data"
    }
   ],
   "source": [
    "k = pd.DataFrame(l)\n",
    "k.index = k.index + 3\n",
    "k.plot(title = 'Elbow Method', legend = False, xlabel = 'k')"
   ]
  },
  {
   "cell_type": "markdown",
   "metadata": {},
   "source": [
    "Choosing the optimal k through the **Silhouette Method**"
   ]
  },
  {
   "cell_type": "code",
   "execution_count": 36,
   "metadata": {},
   "outputs": [
    {
     "name": "stderr",
     "output_type": "stream",
     "text": [
      "100%|██████████| 8/8 [20:47<00:00, 155.97s/it]                                  \n"
     ]
    }
   ],
   "source": [
    "sc.setLogLevel(\"OFF\")\n",
    "s = []\n",
    "for k in tqdm(range(3, 11)):\n",
    "    score = iterating(k, rdd, threshold = 10)\n",
    "    s.append(silhouette_score(data, score[0][0]))"
   ]
  },
  {
   "cell_type": "code",
   "execution_count": 38,
   "metadata": {},
   "outputs": [
    {
     "data": {
      "text/plain": [
       "<AxesSubplot:title={'center':'Silhouette Method'}, xlabel='k'>"
      ]
     },
     "execution_count": 38,
     "metadata": {},
     "output_type": "execute_result"
    },
    {
     "data": {
      "image/png": "[encoded data removed]",
      "text/plain": [
       "<Figure size 432x288 with 1 Axes>"
      ]
     },
     "metadata": {
      "needs_background": "light"
     },
     "output_type": "display_data"
    }
   ],
   "source": [
    "k = pd.DataFrame(s)\n",
    "k.index = k.index + 3\n",
    "k.plot(title = 'Silhouette Method', legend = False, xlabel = 'k')"
   ]
  },
  {
   "cell_type": "markdown",
   "metadata": {},
   "source": [
    "Both methods returns **4** as the **optimal value for k**"
   ]
  },
  {
   "cell_type": "code",
   "execution_count": 102,
   "metadata": {},
   "outputs": [
    {
     "name": "stderr",
     "output_type": "stream",
     "text": [
      "                                                                                \r"
     ]
    }
   ],
   "source": [
    "sc.setLogLevel(\"OFF\")\n",
    "clusters, variance = iterating(4, rdd)"
   ]
  },
  {
   "cell_type": "code",
   "execution_count": 103,
   "metadata": {},
   "outputs": [],
   "source": [
    "clusters['x'] = clusters[1].apply(lambda x: x[0])\n",
    "clusters['y'] = clusters[1].apply(lambda x: x[1])\n",
    "clusters.rename({0: 'Color'}, inplace = True, axis = 1)"
   ]
  },
  {
   "cell_type": "code",
   "execution_count": 125,
   "metadata": {},
   "outputs": [
    {
     "data": {
      "image/png": "[encoded data removed]",
      "text/plain": [
       "<Figure size 432x432 with 1 Axes>"
      ]
     },
     "metadata": {
      "needs_background": "light"
     },
     "output_type": "display_data"
    }
   ],
   "source": [
    "fig, ax = plt.subplots(figsize = (6,6))\n",
    "plt.grid(True,zorder=0, which=\"both\", ls=\"-\")\n",
    "ax.scatter(data[:,0], data[:,1], s=60, alpha=0.7, edgecolors=\"k\", zorder=3, c=clusters.Color)\n",
    "plt.title(\"Our k-means\")\n",
    "ax.set_yscale(\"log\")\n",
    "ax.set_xscale(\"log\")"
   ]
  },
  {
   "cell_type": "markdown",
   "metadata": {},
   "source": [
    "Already implemented version of K-means++ (from the scikit-learn library):"
   ]
  },
  {
   "cell_type": "code",
   "execution_count": 116,
   "metadata": {},
   "outputs": [],
   "source": [
    "from sklearn.cluster import KMeans\n",
    "kmeans = KMeans(n_clusters=4, init='random').fit_predict(data)\n",
    "kmeanspp = KMeans(n_clusters=4, init='k-means++').fit_predict(data)"
   ]
  },
  {
   "cell_type": "code",
   "execution_count": 129,
   "metadata": {},
   "outputs": [
    {
     "data": {
      "image/png": "[encoded data removed]",
      "text/plain": [
       "<Figure size 864x432 with 2 Axes>"
      ]
     },
     "metadata": {
      "needs_background": "light"
     },
     "output_type": "display_data"
    }
   ],
   "source": [
    "fig, ax = plt.subplots(1, 2, figsize = (12,6))\n",
    "fig.suptitle('Already implemented k-means comparison')\n",
    "\n",
    "ax[0].grid(True,zorder=0, which=\"both\", ls=\"-\")\n",
    "ax[0].scatter(data[:,0], data[:,1], s=60, alpha=0.7, zorder=3, c=kmeans)\n",
    "ax[0].set_title('Kmeans')\n",
    "ax[0].set_yscale(\"log\")\n",
    "ax[0].set_xscale(\"log\")\n",
    "\n",
    "ax[1].grid(True,zorder=0, which=\"both\", ls=\"-\")\n",
    "ax[1].scatter(data[:,0], data[:,1], s=60, alpha=0.7, zorder=3, c=kmeanspp)\n",
    "ax[1].set_title('Kmeans++')\n",
    "ax[1].set_yscale(\"log\")\n",
    "ax[1].set_xscale(\"log\")"
   ]
  },
  {
   "cell_type": "markdown",
   "metadata": {},
   "source": [
    "The main differences between our implementation of _K-means_ and the _K-means++_ from scikit-learn is given by the differences in the algorithms themselves.\\\n",
    "As we can see form the scatter plot above (left), our work is consistent with the _K-means_ from scikit-learn."
   ]
  },
  {
   "cell_type": "markdown",
   "metadata": {},
   "source": [
    "## 2.4 Analysing your results!"
   ]
  },
  {
   "cell_type": "markdown",
   "metadata": {},
   "source": [
    "Now we repeat the same procedures as above, but mantaining the information for each cusotmer.\\\n",
    "In the end, we obtain the same _new_feature_ DataFrame with a new column representing the cluster to which each customer belongs.\n",
    "\n",
    "We can then procede with the pivot tables on:\n",
    "* Number of transactions\n",
    "* Most common gender\n",
    "* Number of different locations"
   ]
  },
  {
   "cell_type": "code",
   "execution_count": 109,
   "metadata": {},
   "outputs": [],
   "source": [
    "from sklearn.cluster import KMeans\n",
    "from sklearn import preprocessing\n",
    "from sklearn.decomposition import PCA\n",
    "from sklearn.preprocessing import RobustScaler"
   ]
  },
  {
   "cell_type": "code",
   "execution_count": 110,
   "metadata": {},
   "outputs": [],
   "source": [
    "new_feature = pd.read_csv(\"new_feature.csv\",index_col=0)\n",
    "new_feature.dropna(inplace=True)\n",
    "new_feature_fin = new_feature.copy()"
   ]
  },
  {
   "cell_type": "code",
   "execution_count": 111,
   "metadata": {},
   "outputs": [],
   "source": [
    "features = [\"MostFreqLocation\",\"MostCommonGender\",\"TrOver50k\",\"TopPlaces\",\"WithChildren\"]  # all non-numeric features\n",
    "for f in features:\n",
    "    enc = preprocessing.LabelEncoder()\n",
    "    enc.fit(new_feature[f])\n",
    "    new_feature[f] = enc.transform(new_feature[f])\n",
    "    #np.save(f+'.npy', enc.classes_)"
   ]
  },
  {
   "cell_type": "code",
   "execution_count": 112,
   "metadata": {},
   "outputs": [],
   "source": [
    "scaler3 = RobustScaler()\n",
    "scaled3 = scaler3.fit_transform(new_feature.set_index(\"CustomerID\"))\n",
    "pca = PCA(n_components=2)\n",
    "red_data = pca.fit_transform(scaled3)\n",
    "res = pd.DataFrame(red_data).join(new_feature[\"CustomerID\"])\n",
    "res[\"cluster\"] = KMeans(n_clusters=4, init='random').fit_predict(red_data)"
   ]
  },
  {
   "cell_type": "code",
   "execution_count": 114,
   "metadata": {},
   "outputs": [],
   "source": [
    "grouped = new_feature_fin.merge(res[[\"CustomerID\",\"cluster\"]], on=\"CustomerID\")"
   ]
  },
  {
   "cell_type": "markdown",
   "metadata": {},
   "source": [
    "The pivot tables:"
   ]
  },
  {
   "cell_type": "code",
   "execution_count": 115,
   "metadata": {
    "scrolled": true
   },
   "outputs": [
    {
     "data": {
      "text/html": [
       "<div>\n",
       "<style scoped>\n",
       "    .dataframe tbody tr th:only-of-type {\n",
       "        vertical-align: middle;\n",
       "    }\n",
       "\n",
       "    .dataframe tbody tr th {\n",
       "        vertical-align: top;\n",
       "    }\n",
       "\n",
       "    .dataframe thead tr th {\n",
       "        text-align: left;\n",
       "    }\n",
       "\n",
       "    .dataframe thead tr:last-of-type th {\n",
       "        text-align: right;\n",
       "    }\n",
       "</style>\n",
       "<table border=\"1\" class=\"dataframe\">\n",
       "  <thead>\n",
       "    <tr>\n",
       "      <th></th>\n",
       "      <th colspan=\"5\" halign=\"left\">CustomerID</th>\n",
       "    </tr>\n",
       "    <tr>\n",
       "      <th>NumTransactions</th>\n",
       "      <th>2</th>\n",
       "      <th>3</th>\n",
       "      <th>4</th>\n",
       "      <th>5</th>\n",
       "      <th>6</th>\n",
       "    </tr>\n",
       "    <tr>\n",
       "      <th>cluster</th>\n",
       "      <th></th>\n",
       "      <th></th>\n",
       "      <th></th>\n",
       "      <th></th>\n",
       "      <th></th>\n",
       "    </tr>\n",
       "  </thead>\n",
       "  <tbody>\n",
       "    <tr>\n",
       "      <th>0</th>\n",
       "      <td>100.00</td>\n",
       "      <td>0.00</td>\n",
       "      <td>0.00</td>\n",
       "      <td>0.00</td>\n",
       "      <td>0.00</td>\n",
       "    </tr>\n",
       "    <tr>\n",
       "      <th>1</th>\n",
       "      <td>79.27</td>\n",
       "      <td>18.04</td>\n",
       "      <td>2.36</td>\n",
       "      <td>0.18</td>\n",
       "      <td>0.15</td>\n",
       "    </tr>\n",
       "    <tr>\n",
       "      <th>2</th>\n",
       "      <td>81.30</td>\n",
       "      <td>16.48</td>\n",
       "      <td>2.02</td>\n",
       "      <td>0.19</td>\n",
       "      <td>0.02</td>\n",
       "    </tr>\n",
       "    <tr>\n",
       "      <th>3</th>\n",
       "      <td>77.99</td>\n",
       "      <td>20.75</td>\n",
       "      <td>0.63</td>\n",
       "      <td>0.63</td>\n",
       "      <td>0.00</td>\n",
       "    </tr>\n",
       "  </tbody>\n",
       "</table>\n",
       "</div>"
      ],
      "text/plain": [
       "                CustomerID                         \n",
       "NumTransactions          2      3     4     5     6\n",
       "cluster                                            \n",
       "0                   100.00   0.00  0.00  0.00  0.00\n",
       "1                    79.27  18.04  2.36  0.18  0.15\n",
       "2                    81.30  16.48  2.02  0.19  0.02\n",
       "3                    77.99  20.75  0.63  0.63  0.00"
      ]
     },
     "execution_count": 115,
     "metadata": {},
     "output_type": "execute_result"
    }
   ],
   "source": [
    "table = pd.pivot_table(grouped, index=['cluster'], columns=[\"NumTransactions\"],\n",
    "                       values=['CustomerID'], aggfunc={'CustomerID': 'count'})\n",
    "res = round(table.div(table.sum(axis=1), axis=0).fillna(0)*100,2)\n",
    "res"
   ]
  },
  {
   "cell_type": "code",
   "execution_count": 116,
   "metadata": {
    "scrolled": true
   },
   "outputs": [
    {
     "data": {
      "text/html": [
       "<div>\n",
       "<style scoped>\n",
       "    .dataframe tbody tr th:only-of-type {\n",
       "        vertical-align: middle;\n",
       "    }\n",
       "\n",
       "    .dataframe tbody tr th {\n",
       "        vertical-align: top;\n",
       "    }\n",
       "\n",
       "    .dataframe thead tr th {\n",
       "        text-align: left;\n",
       "    }\n",
       "\n",
       "    .dataframe thead tr:last-of-type th {\n",
       "        text-align: right;\n",
       "    }\n",
       "</style>\n",
       "<table border=\"1\" class=\"dataframe\">\n",
       "  <thead>\n",
       "    <tr>\n",
       "      <th></th>\n",
       "      <th colspan=\"2\" halign=\"left\">CustomerID</th>\n",
       "    </tr>\n",
       "    <tr>\n",
       "      <th>MostCommonGender</th>\n",
       "      <th>F</th>\n",
       "      <th>M</th>\n",
       "    </tr>\n",
       "    <tr>\n",
       "      <th>cluster</th>\n",
       "      <th></th>\n",
       "      <th></th>\n",
       "    </tr>\n",
       "  </thead>\n",
       "  <tbody>\n",
       "    <tr>\n",
       "      <th>0</th>\n",
       "      <td>100.00</td>\n",
       "      <td>0.00</td>\n",
       "    </tr>\n",
       "    <tr>\n",
       "      <th>1</th>\n",
       "      <td>85.52</td>\n",
       "      <td>14.48</td>\n",
       "    </tr>\n",
       "    <tr>\n",
       "      <th>2</th>\n",
       "      <td>86.70</td>\n",
       "      <td>13.30</td>\n",
       "    </tr>\n",
       "    <tr>\n",
       "      <th>3</th>\n",
       "      <td>82.39</td>\n",
       "      <td>17.61</td>\n",
       "    </tr>\n",
       "  </tbody>\n",
       "</table>\n",
       "</div>"
      ],
      "text/plain": [
       "                 CustomerID       \n",
       "MostCommonGender          F      M\n",
       "cluster                           \n",
       "0                    100.00   0.00\n",
       "1                     85.52  14.48\n",
       "2                     86.70  13.30\n",
       "3                     82.39  17.61"
      ]
     },
     "execution_count": 116,
     "metadata": {},
     "output_type": "execute_result"
    }
   ],
   "source": [
    "table = pd.pivot_table(grouped, index=['cluster'], columns=[\"MostCommonGender\"],\n",
    "                       values=['CustomerID'], aggfunc={'CustomerID': 'count'})\n",
    "res = round(table.div(table.sum(axis=1), axis=0).fillna(0)*100,2)\n",
    "res"
   ]
  },
  {
   "cell_type": "code",
   "execution_count": 120,
   "metadata": {},
   "outputs": [
    {
     "data": {
      "text/html": [
       "<div>\n",
       "<style scoped>\n",
       "    .dataframe tbody tr th:only-of-type {\n",
       "        vertical-align: middle;\n",
       "    }\n",
       "\n",
       "    .dataframe tbody tr th {\n",
       "        vertical-align: top;\n",
       "    }\n",
       "\n",
       "    .dataframe thead tr th {\n",
       "        text-align: left;\n",
       "    }\n",
       "\n",
       "    .dataframe thead tr:last-of-type th {\n",
       "        text-align: right;\n",
       "    }\n",
       "</style>\n",
       "<table border=\"1\" class=\"dataframe\">\n",
       "  <thead>\n",
       "    <tr>\n",
       "      <th></th>\n",
       "      <th colspan=\"5\" halign=\"left\">CustomerID</th>\n",
       "    </tr>\n",
       "    <tr>\n",
       "      <th>DifferentLocations</th>\n",
       "      <th>2</th>\n",
       "      <th>3</th>\n",
       "      <th>4</th>\n",
       "      <th>5</th>\n",
       "      <th>6</th>\n",
       "    </tr>\n",
       "    <tr>\n",
       "      <th>cluster</th>\n",
       "      <th></th>\n",
       "      <th></th>\n",
       "      <th></th>\n",
       "      <th></th>\n",
       "      <th></th>\n",
       "    </tr>\n",
       "  </thead>\n",
       "  <tbody>\n",
       "    <tr>\n",
       "      <th>0</th>\n",
       "      <td>100.00</td>\n",
       "      <td>0.00</td>\n",
       "      <td>0.00</td>\n",
       "      <td>0.00</td>\n",
       "      <td>0.00</td>\n",
       "    </tr>\n",
       "    <tr>\n",
       "      <th>1</th>\n",
       "      <td>79.27</td>\n",
       "      <td>18.04</td>\n",
       "      <td>2.36</td>\n",
       "      <td>0.18</td>\n",
       "      <td>0.15</td>\n",
       "    </tr>\n",
       "    <tr>\n",
       "      <th>2</th>\n",
       "      <td>81.30</td>\n",
       "      <td>16.48</td>\n",
       "      <td>2.02</td>\n",
       "      <td>0.19</td>\n",
       "      <td>0.02</td>\n",
       "    </tr>\n",
       "    <tr>\n",
       "      <th>3</th>\n",
       "      <td>77.99</td>\n",
       "      <td>20.75</td>\n",
       "      <td>0.63</td>\n",
       "      <td>0.63</td>\n",
       "      <td>0.00</td>\n",
       "    </tr>\n",
       "  </tbody>\n",
       "</table>\n",
       "</div>"
      ],
      "text/plain": [
       "                   CustomerID                         \n",
       "DifferentLocations          2      3     4     5     6\n",
       "cluster                                               \n",
       "0                      100.00   0.00  0.00  0.00  0.00\n",
       "1                       79.27  18.04  2.36  0.18  0.15\n",
       "2                       81.30  16.48  2.02  0.19  0.02\n",
       "3                       77.99  20.75  0.63  0.63  0.00"
      ]
     },
     "execution_count": 120,
     "metadata": {},
     "output_type": "execute_result"
    }
   ],
   "source": [
    "table = pd.pivot_table(grouped, index=['cluster'], columns=[\"DifferentLocations\"],\n",
    "                       values=['CustomerID'], aggfunc={'CustomerID': 'count'})\n",
    "res = round(table.div(table.sum(axis=1), axis=0).fillna(0)*100,2)\n",
    "res"
   ]
  },
  {
   "cell_type": "markdown",
   "metadata": {},
   "source": [
    "# Algorithmic Question"
   ]
  },
  {
   "cell_type": "code",
   "execution_count": 45,
   "metadata": {},
   "outputs": [
    {
     "name": "stdout",
     "output_type": "stream",
     "text": [
      "4\n",
      "20\n",
      "3\n",
      "1 1 2 1 4 2 1 4 4 3 2 3 4 2 2 2 3 4 3 4\n",
      "YES\n"
     ]
    }
   ],
   "source": [
    "from collections import Counter\n",
    "\n",
    "N = int(input()) # number of entrances\n",
    "M = int(input()) # number of students\n",
    "G = int(input()) # number of guards\n",
    "\n",
    "assigned_entrances = list(map(int, input().split())) # number of the entrance assigned to each student\n",
    "\n",
    "# just a check over the input\n",
    "if (len(assigned_entrances) != M) or (all(assigned_entrances[i] in range(1, N+1) for i in range(M)) == False):                       \n",
    "    assigned_entrances = list(map(int, input().split()))\n",
    "\n",
    "d = Counter(assigned_entrances) # counts how many students will pass through an entrance\n",
    "\n",
    "guards = {f'{i+1}' : 0 for i in range(N)} # the values will become 1 if a guard will be assigned to the i-th entrance\n",
    "\n",
    "if G >= N: # if the number of guards is greater or equal to the number of entrances it returns YES\n",
    "    print('YES')\n",
    "else:\n",
    "    s = set() # to check what entrances had been already used\n",
    "    \n",
    "    #iterating over the list assigned entrances\n",
    "    for i in range(M):\n",
    "        \n",
    "        #if it's the first time we encounter an entrance number \n",
    "        if assigned_entrances[i] not in s and G >= 0:\n",
    "            s.add(assigned_entrances[i])\n",
    "            # if there are still guards\n",
    "            if G > 0:\n",
    "                # we assign 1 to the corresponding key in the dictionary guards\n",
    "                guards[f'{assigned_entrances[i]}'] = 1  \n",
    "            # we decrease the number of available guards \n",
    "            G -= 1\n",
    "            d[assigned_entrances[i]] -= 1\n",
    "            \n",
    "        # otherwise\n",
    "        elif assigned_entrances[i] in s:\n",
    "            d[assigned_entrances[i]] -= 1\n",
    "            #if d[assigned_entrances[i]]=0 it means that we won't meet that number anymore, so the guard could be assigned again\n",
    "            if d[assigned_entrances[i]] == 0  and G >= 0:\n",
    "                G += 1\n",
    "                \n",
    "        # if we have no more guards left but we still haven't meet some of the numbers assigned to the students\n",
    "        if G < 0 and len(s) <= len(d.keys()):\n",
    "            print('NO')\n",
    "            break\n",
    "    \n",
    "    # if we exit the loop and all the keys in the dictionary guards that are also in the counter d have values equal to 1\n",
    "    # it means that all the students are in, hence there were enough guards\n",
    "    if all(guards[f'{key}'] == 1 for key in d.keys()) == True:\n",
    "        print('YES')\n",
    "                \n",
    "            "
   ]
  }
 ],
 "metadata": {
  "kernelspec": {
   "display_name": "Python 3 (ipykernel)",
   "language": "python",
   "name": "python3"
  },
  "language_info": {
   "codemirror_mode": {
    "name": "ipython",
    "version": 3
   },
   "file_extension": ".py",
   "mimetype": "text/x-python",
   "name": "python",
   "nbconvert_exporter": "python",
   "pygments_lexer": "ipython3",
   "version": "3.9.7 (default, Sep 16 2021, 08:50:36) \n[Clang 10.0.0 ]"
  },
  "vscode": {
   "interpreter": {
    "hash": "4f1e9513bc5bb29d9bee4e72c87ca22d6bcc97c47c851bcd1d209449bd223422"
   }
  }
 },
 "nbformat": 4,
 "nbformat_minor": 4
}
