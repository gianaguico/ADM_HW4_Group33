{
 "cells": [
  {
   "cell_type": "markdown",
   "id": "ffafca38",
   "metadata": {},
   "source": [
    "## 2. Grouping customers together!"
   ]
  },
  {
   "cell_type": "markdown",
   "id": "003d04c9",
   "metadata": {},
   "source": [
    "### 2.1 Getting your data + feature engineering"
   ]
  },
  {
   "cell_type": "code",
   "execution_count": 1,
   "id": "29f3221e",
   "metadata": {},
   "outputs": [],
   "source": [
    "import pandas as pd\n",
    "from datetime import datetime \n",
    "from scipy import stats\n",
    "import numpy as np"
   ]
  },
  {
   "cell_type": "code",
   "execution_count": 7,
   "id": "402ff886",
   "metadata": {
    "scrolled": true
   },
   "outputs": [],
   "source": [
    "#df = pd.read_csv('archive.zip')"
   ]
  },
  {
   "cell_type": "code",
   "execution_count": 3,
   "id": "b5b69cd9",
   "metadata": {},
   "outputs": [],
   "source": [
    "#df.dropna(inplace = True) #dropping Nan values "
   ]
  },
  {
   "cell_type": "code",
   "execution_count": 8,
   "id": "5d696ab2",
   "metadata": {},
   "outputs": [
    {
     "data": {
      "text/html": [
       "<div>\n",
       "<style scoped>\n",
       "    .dataframe tbody tr th:only-of-type {\n",
       "        vertical-align: middle;\n",
       "    }\n",
       "\n",
       "    .dataframe tbody tr th {\n",
       "        vertical-align: top;\n",
       "    }\n",
       "\n",
       "    .dataframe thead th {\n",
       "        text-align: right;\n",
       "    }\n",
       "</style>\n",
       "<table border=\"1\" class=\"dataframe\">\n",
       "  <thead>\n",
       "    <tr style=\"text-align: right;\">\n",
       "      <th></th>\n",
       "      <th>Unnamed: 0</th>\n",
       "      <th>TransactionID</th>\n",
       "      <th>CustomerID</th>\n",
       "      <th>CustomerDOB</th>\n",
       "      <th>CustGender</th>\n",
       "      <th>CustLocation</th>\n",
       "      <th>CustAccountBalance</th>\n",
       "      <th>TransactionDate</th>\n",
       "      <th>TransactionTime</th>\n",
       "      <th>TransactionAmount (INR)</th>\n",
       "    </tr>\n",
       "  </thead>\n",
       "  <tbody>\n",
       "    <tr>\n",
       "      <th>0</th>\n",
       "      <td>0</td>\n",
       "      <td>T1</td>\n",
       "      <td>C5841053</td>\n",
       "      <td>1994-10-01</td>\n",
       "      <td>F</td>\n",
       "      <td>JAMSHEDPUR</td>\n",
       "      <td>17819.05</td>\n",
       "      <td>2016-02-08</td>\n",
       "      <td>14:32:07</td>\n",
       "      <td>25.0</td>\n",
       "    </tr>\n",
       "    <tr>\n",
       "      <th>1</th>\n",
       "      <td>2</td>\n",
       "      <td>T3</td>\n",
       "      <td>C4417068</td>\n",
       "      <td>1996-11-26</td>\n",
       "      <td>F</td>\n",
       "      <td>MUMBAI</td>\n",
       "      <td>17874.44</td>\n",
       "      <td>2016-02-08</td>\n",
       "      <td>14:27:12</td>\n",
       "      <td>459.0</td>\n",
       "    </tr>\n",
       "    <tr>\n",
       "      <th>2</th>\n",
       "      <td>3</td>\n",
       "      <td>T4</td>\n",
       "      <td>C5342380</td>\n",
       "      <td>1973-09-14</td>\n",
       "      <td>F</td>\n",
       "      <td>MUMBAI</td>\n",
       "      <td>866503.21</td>\n",
       "      <td>2016-02-08</td>\n",
       "      <td>14:27:14</td>\n",
       "      <td>2060.0</td>\n",
       "    </tr>\n",
       "    <tr>\n",
       "      <th>3</th>\n",
       "      <td>4</td>\n",
       "      <td>T5</td>\n",
       "      <td>C9031234</td>\n",
       "      <td>1988-03-24</td>\n",
       "      <td>F</td>\n",
       "      <td>NAVI MUMBAI</td>\n",
       "      <td>6714.43</td>\n",
       "      <td>2016-02-08</td>\n",
       "      <td>18:11:56</td>\n",
       "      <td>1762.5</td>\n",
       "    </tr>\n",
       "    <tr>\n",
       "      <th>4</th>\n",
       "      <td>5</td>\n",
       "      <td>T6</td>\n",
       "      <td>C1536588</td>\n",
       "      <td>1972-08-10</td>\n",
       "      <td>F</td>\n",
       "      <td>ITANAGAR</td>\n",
       "      <td>53609.20</td>\n",
       "      <td>2016-02-08</td>\n",
       "      <td>17:39:40</td>\n",
       "      <td>676.0</td>\n",
       "    </tr>\n",
       "    <tr>\n",
       "      <th>...</th>\n",
       "      <td>...</td>\n",
       "      <td>...</td>\n",
       "      <td>...</td>\n",
       "      <td>...</td>\n",
       "      <td>...</td>\n",
       "      <td>...</td>\n",
       "      <td>...</td>\n",
       "      <td>...</td>\n",
       "      <td>...</td>\n",
       "      <td>...</td>\n",
       "    </tr>\n",
       "    <tr>\n",
       "      <th>965271</th>\n",
       "      <td>1048562</td>\n",
       "      <td>T1048563</td>\n",
       "      <td>C8020229</td>\n",
       "      <td>1990-08-04</td>\n",
       "      <td>M</td>\n",
       "      <td>NEW DELHI</td>\n",
       "      <td>7635.19</td>\n",
       "      <td>2016-09-18</td>\n",
       "      <td>18:48:24</td>\n",
       "      <td>799.0</td>\n",
       "    </tr>\n",
       "    <tr>\n",
       "      <th>965272</th>\n",
       "      <td>1048563</td>\n",
       "      <td>T1048564</td>\n",
       "      <td>C6459278</td>\n",
       "      <td>1992-02-20</td>\n",
       "      <td>M</td>\n",
       "      <td>NASHIK</td>\n",
       "      <td>27311.42</td>\n",
       "      <td>2016-09-18</td>\n",
       "      <td>18:37:34</td>\n",
       "      <td>460.0</td>\n",
       "    </tr>\n",
       "    <tr>\n",
       "      <th>965273</th>\n",
       "      <td>1048564</td>\n",
       "      <td>T1048565</td>\n",
       "      <td>C6412354</td>\n",
       "      <td>1989-05-18</td>\n",
       "      <td>M</td>\n",
       "      <td>HYDERABAD</td>\n",
       "      <td>221757.06</td>\n",
       "      <td>2016-09-18</td>\n",
       "      <td>18:33:13</td>\n",
       "      <td>770.0</td>\n",
       "    </tr>\n",
       "    <tr>\n",
       "      <th>965274</th>\n",
       "      <td>1048565</td>\n",
       "      <td>T1048566</td>\n",
       "      <td>C6420483</td>\n",
       "      <td>1978-08-30</td>\n",
       "      <td>M</td>\n",
       "      <td>VISAKHAPATNAM</td>\n",
       "      <td>10117.87</td>\n",
       "      <td>2016-09-18</td>\n",
       "      <td>18:47:06</td>\n",
       "      <td>1000.0</td>\n",
       "    </tr>\n",
       "    <tr>\n",
       "      <th>965275</th>\n",
       "      <td>1048566</td>\n",
       "      <td>T1048567</td>\n",
       "      <td>C8337524</td>\n",
       "      <td>1984-05-03</td>\n",
       "      <td>M</td>\n",
       "      <td>PUNE</td>\n",
       "      <td>75734.42</td>\n",
       "      <td>2016-09-18</td>\n",
       "      <td>18:12:22</td>\n",
       "      <td>1166.0</td>\n",
       "    </tr>\n",
       "  </tbody>\n",
       "</table>\n",
       "<p>965276 rows × 10 columns</p>\n",
       "</div>"
      ],
      "text/plain": [
       "        Unnamed: 0 TransactionID CustomerID CustomerDOB CustGender  \\\n",
       "0                0            T1   C5841053  1994-10-01          F   \n",
       "1                2            T3   C4417068  1996-11-26          F   \n",
       "2                3            T4   C5342380  1973-09-14          F   \n",
       "3                4            T5   C9031234  1988-03-24          F   \n",
       "4                5            T6   C1536588  1972-08-10          F   \n",
       "...            ...           ...        ...         ...        ...   \n",
       "965271     1048562      T1048563   C8020229  1990-08-04          M   \n",
       "965272     1048563      T1048564   C6459278  1992-02-20          M   \n",
       "965273     1048564      T1048565   C6412354  1989-05-18          M   \n",
       "965274     1048565      T1048566   C6420483  1978-08-30          M   \n",
       "965275     1048566      T1048567   C8337524  1984-05-03          M   \n",
       "\n",
       "         CustLocation  CustAccountBalance TransactionDate TransactionTime  \\\n",
       "0          JAMSHEDPUR            17819.05      2016-02-08        14:32:07   \n",
       "1              MUMBAI            17874.44      2016-02-08        14:27:12   \n",
       "2              MUMBAI           866503.21      2016-02-08        14:27:14   \n",
       "3         NAVI MUMBAI             6714.43      2016-02-08        18:11:56   \n",
       "4            ITANAGAR            53609.20      2016-02-08        17:39:40   \n",
       "...               ...                 ...             ...             ...   \n",
       "965271      NEW DELHI             7635.19      2016-09-18        18:48:24   \n",
       "965272         NASHIK            27311.42      2016-09-18        18:37:34   \n",
       "965273      HYDERABAD           221757.06      2016-09-18        18:33:13   \n",
       "965274  VISAKHAPATNAM            10117.87      2016-09-18        18:47:06   \n",
       "965275           PUNE            75734.42      2016-09-18        18:12:22   \n",
       "\n",
       "        TransactionAmount (INR)  \n",
       "0                          25.0  \n",
       "1                         459.0  \n",
       "2                        2060.0  \n",
       "3                        1762.5  \n",
       "4                         676.0  \n",
       "...                         ...  \n",
       "965271                    799.0  \n",
       "965272                    460.0  \n",
       "965273                    770.0  \n",
       "965274                   1000.0  \n",
       "965275                   1166.0  \n",
       "\n",
       "[965276 rows x 10 columns]"
      ]
     },
     "execution_count": 8,
     "metadata": {},
     "output_type": "execute_result"
    }
   ],
   "source": [
    "df = pd.read_csv(\"bank_info.csv\")\n",
    "df"
   ]
  },
  {
   "cell_type": "code",
   "execution_count": 9,
   "id": "6ce46a06",
   "metadata": {},
   "outputs": [],
   "source": [
    "#converting timestamps object in datetime objects \n",
    "df.CustomerDOB = pd.to_datetime(df.CustomerDOB)\n",
    "df.TransactionDate = pd.to_datetime(df.TransactionDate)\n",
    "#df.TransactionTime = df.TransactionTime.apply(lambda x: datetime.strptime(str(x).zfill(6), '%H%M%S'))\n",
    "df.TransactionDate = pd.to_datetime(df.TransactionTime)"
   ]
  },
  {
   "cell_type": "code",
   "execution_count": 10,
   "id": "b517de20",
   "metadata": {},
   "outputs": [],
   "source": [
    "#df.loc[df.CustomerDOB.dt.year > 2000, 'CustomerDOB'] = df.loc[df.CustomerDOB.dt.year > 2000, 'CustomerDOB'] - pd.DateOffset(years = 100)\n",
    "#df.drop(df[df.CustomerDOB.dt.year == 1800].index, axis = 0, inplace = True)"
   ]
  },
  {
   "cell_type": "markdown",
   "id": "18da3f99",
   "metadata": {},
   "source": [
    "#### 2.1.2"
   ]
  },
  {
   "cell_type": "code",
   "execution_count": 12,
   "id": "550caaad",
   "metadata": {
    "scrolled": true
   },
   "outputs": [],
   "source": [
    "# a) Number of transactions\n",
    "nt = df.groupby('CustomerID').count().TransactionID.reset_index(name='NumTransactions')\n",
    "new_feature = pd.DataFrame(nt)"
   ]
  },
  {
   "cell_type": "code",
   "execution_count": 13,
   "id": "73481e72",
   "metadata": {},
   "outputs": [],
   "source": [
    "# b) Number of transactions with a balance bigger than 100 USD\n",
    "df.rename(columns = {'TransactionAmount (INR)':'TransactionAmount'}, inplace = True)\n",
    "ntbb = df[df.TransactionAmount > 100].groupby('CustomerID').count().TransactionID.reset_index(name='Ntbb')\n",
    "new_feature = pd.merge(new_feature, ntbb, on = ['CustomerID', 'CustomerID'])"
   ]
  },
  {
   "cell_type": "code",
   "execution_count": 14,
   "id": "40ed2833",
   "metadata": {},
   "outputs": [],
   "source": [
    "# c) Average amount of the transactions\n",
    "aat = df.groupby('CustomerID').mean().TransactionAmount.reset_index(name='AveAmTransactions')\n",
    "new_feature = pd.merge(new_feature, aat, on = ['CustomerID', 'CustomerID'])"
   ]
  },
  {
   "cell_type": "code",
   "execution_count": 15,
   "id": "cbaf5785",
   "metadata": {},
   "outputs": [],
   "source": [
    "# d) Average balance\n",
    "ab = df.groupby('CustomerID').mean().CustAccountBalance.reset_index(name='Average Balance')\n",
    "new_feature = pd.merge(new_feature, ab, on = ['CustomerID', 'CustomerID'])"
   ]
  },
  {
   "cell_type": "code",
   "execution_count": 16,
   "id": "9b518f02",
   "metadata": {},
   "outputs": [],
   "source": [
    "# e) Average difference between the balance and the transaction amount for each customer\n",
    "df['utilisation'] = df['CustAccountBalance'] - df['TransactionAmount'] #Utilisations negative\n",
    "ut = df.groupby('CustomerID').mean().utilisation.reset_index(name='Utilisation')\n",
    "new_feature = pd.merge(new_feature, ut, on = ['CustomerID', 'CustomerID'])"
   ]
  },
  {
   "cell_type": "code",
   "execution_count": 17,
   "id": "a77523d0",
   "metadata": {
    "scrolled": true
   },
   "outputs": [],
   "source": [
    "# f) Most common gender of the customer\n",
    "mcg = df.groupby('CustomerID')['CustGender'].agg(lambda x: stats.mode(x)[0][0]).reset_index(name='MostCommonGender')\n",
    "new_feature = pd.merge(new_feature, mcg, on = ['CustomerID', 'CustomerID'])"
   ]
  },
  {
   "cell_type": "code",
   "execution_count": 18,
   "id": "4388601e",
   "metadata": {},
   "outputs": [],
   "source": [
    "# h) Most frequent location of the customer \n",
    "mfl = df.groupby('CustomerID')['CustLocation'].agg(lambda x: stats.mode(x)[0][0]).reset_index(name='MostFreqLocation')\n",
    "new_feature = pd.merge(new_feature, mfl, on = ['CustomerID', 'CustomerID'])"
   ]
  },
  {
   "cell_type": "markdown",
   "id": "1ce4193f",
   "metadata": {},
   "source": [
    "#### 2.1.3"
   ]
  },
  {
   "cell_type": "code",
   "execution_count": 97,
   "id": "57d1486d",
   "metadata": {},
   "outputs": [],
   "source": [
    "# 2) Average age of CustomerID\n",
    "average = df.groupby('CustomerID').mean().CustAge.reset_index(name='AverageAge')\n",
    "df['CustAge'] = round(((df.TransactionDate - df.CustomerDOB) / np.timedelta64(1, 'Y')), 0)\n",
    "new_feature = pd.merge(new_feature, average, on = ['CustomerID', 'CustomerID'])"
   ]
  },
  {
   "cell_type": "code",
   "execution_count": 98,
   "id": "53243e88",
   "metadata": {},
   "outputs": [],
   "source": [
    "# 3) Number of users per CustomerID\n",
    "nu = df.groupby('CustomerID')['CustomerID'].count().reset_index(name='UsersPerCustomerID')\n",
    "new_feature = pd.merge(new_feature, nu, on = ['CustomerID', 'CustomerID'])"
   ]
  },
  {
   "cell_type": "code",
   "execution_count": null,
   "id": "524de708",
   "metadata": {},
   "outputs": [],
   "source": [
    "# 4) Who spends the most between the users with same CustomerID\n",
    "wsm = df.groupby(['CustomerID', 'CustomerDOB']).apply(lambda x: x.loc[x.TransactionAmount.idxmax(), ['CustomerDOB']])\n",
    "wsm"
   ]
  },
  {
   "cell_type": "markdown",
   "id": "c79ff812",
   "metadata": {},
   "source": [
    "---"
   ]
  },
  {
   "cell_type": "code",
   "execution_count": 82,
   "id": "90741aae",
   "metadata": {},
   "outputs": [],
   "source": [
    "# quantiles over the account balance distribution\n",
    "q = list(df[\"CustAccountBalance\"].quantile([0,.25,.50,.75,.95]))\n",
    "df[\"BalanceQuant\"] = df.apply(lambda x: .95 if x.CustAccountBalance >= q[4] else .75 if x.CustAccountBalance >= q[3]\\\n",
    "                                     else .50 if x.CustAccountBalance >= q[2] else .25 if x.CustAccountBalance >= q[1] else 0, axis=1)"
   ]
  },
  {
   "cell_type": "code",
   "execution_count": 80,
   "id": "5d462fe7",
   "metadata": {},
   "outputs": [],
   "source": [
    "# Presence of transactions over 50'000\n",
    "df[\"TrOver50k\"]=df[\"CustomerID\"].isin(df[df[\"TransactionAmount\"]>=50000].CustomerID)"
   ]
  },
  {
   "cell_type": "code",
   "execution_count": 75,
   "id": "370c69db",
   "metadata": {},
   "outputs": [],
   "source": [
    "# transaction amount variance\n",
    "tav = df.groupby('CustomerID').var().TransactionAmount.reset_index(name='VarAmTransactions')\n",
    "df = pd.merge(df, tav, on = ['CustomerID', 'CustomerID'])"
   ]
  },
  {
   "cell_type": "code",
   "execution_count": 71,
   "id": "3c5cb162",
   "metadata": {},
   "outputs": [],
   "source": [
    "# quantiles over the average transaction amount\n",
    "q = list(df[\"AveAmTransactions\"].quantile([0,.25,.50,.75,.95]))\n",
    "df[\"AveTrQuant\"] = df.apply(lambda x: .95 if x.AveAmTransactions >= q[4] else .75 if x.AveAmTransactions >= q[3]\\\n",
    "                                     else .50 if x.AveAmTransactions >= q[2] else .25 if x.AveAmTransactions >= q[1] else 0, axis=1)"
   ]
  },
  {
   "cell_type": "code",
   "execution_count": 59,
   "id": "3f944b3a",
   "metadata": {},
   "outputs": [],
   "source": [
    "# number of different places\n",
    "diff = df.groupby(\"CustomerID\").CustLocation.count().reset_index(name='DifferentLocations')\n",
    "df = pd.merge(df, diff, on = ['CustomerID', 'CustomerID'])"
   ]
  },
  {
   "cell_type": "code",
   "execution_count": 45,
   "id": "36b5a260",
   "metadata": {},
   "outputs": [],
   "source": [
    "# filter if the account has a transaction in the top 25 most frequent places\n",
    "places = df.groupby(\"CustLocation\").CustomerID.count().sort_values(ascending=False)\n",
    "top_places = places.head(int(len(places)*0.25))"
   ]
  },
  {
   "cell_type": "code",
   "execution_count": 53,
   "id": "9d412f92",
   "metadata": {},
   "outputs": [],
   "source": [
    "has_tx = df[df.apply(lambda x: x.CustLocation in top_places.index, axis=1)].CustomerID.unique()\n",
    "df[\"TopPlaces\"] = df[\"CustomerID\"].isin(has_tx)"
   ]
  },
  {
   "cell_type": "code",
   "execution_count": 25,
   "id": "17c05ef9",
   "metadata": {},
   "outputs": [],
   "source": [
    "# Presence of minors in the account\n",
    "df[\"WithChildren\"]=df[\"CustomerID\"].isin(df[df[\"CustAge\"]<18].CustomerID)"
   ]
  },
  {
   "cell_type": "code",
   "execution_count": 57,
   "id": "e3aff5a5",
   "metadata": {},
   "outputs": [],
   "source": [
    "# mean hour for each customer\n",
    "mh = df.groupby(\"CustomerID\").TransactionTime.mean().apply(lambda x: x.hour)"
   ]
  },
  {
   "cell_type": "code",
   "execution_count": 59,
   "id": "2ee149e4",
   "metadata": {},
   "outputs": [],
   "source": [
    "# most common hour for each customer\n",
    "df[\"TrHour\"] = df.apply(lambda x: x.TransactionTime.hour,axis=1)\n",
    "moh = df.groupby(\"CustomerID\").TrHour.agg(lambda x: pd.Series.mode(x).iloc[0])"
   ]
  },
  {
   "cell_type": "code",
   "execution_count": 78,
   "id": "fabab8b8",
   "metadata": {
    "scrolled": true
   },
   "outputs": [
    {
     "data": {
      "text/plain": [
       "CustomerID\n",
       "C1010011    1\n",
       "C1010014    1\n",
       "C1010018    1\n",
       "C1010028    1\n",
       "C1010038    1\n",
       "           ..\n",
       "C9099140    1\n",
       "C9099180    1\n",
       "C9099576    1\n",
       "C9099661    1\n",
       "C9099692    1\n",
       "Name: CustomerDOB, Length: 267486, dtype: int64"
      ]
     },
     "execution_count": 78,
     "metadata": {},
     "output_type": "execute_result"
    }
   ],
   "source": [
    "# number of women\n",
    "wn = df[df[\"CustGender\"]==\"F\"].groupby(\"CustomerID\").CustomerDOB.count()\n",
    "\n",
    "# number of men\n",
    "mn = df[df[\"CustGender\"]==\"F\"].groupby(\"CustomerID\").CustomerDOB.count()"
   ]
  },
  {
   "cell_type": "markdown",
   "id": "a1492217",
   "metadata": {},
   "source": [
    "---\n",
    "# 2.2"
   ]
  },
  {
   "cell_type": "code",
   "execution_count": 55,
   "id": "3c04e5d2",
   "metadata": {},
   "outputs": [],
   "source": [
    "from sklearn import preprocessing\n",
    "from sklearn.decomposition import PCA\n",
    "import matplotlib.pyplot as plt"
   ]
  },
  {
   "cell_type": "markdown",
   "id": "3d7b812e",
   "metadata": {},
   "source": [
    "Encoding Categorical Features"
   ]
  },
  {
   "cell_type": "code",
   "execution_count": 20,
   "id": "dd578f1f",
   "metadata": {},
   "outputs": [],
   "source": [
    "enc = preprocessing.LabelEncoder()\n",
    "enc.fit(new_feature[\"MostFreqLocation\"])\n",
    "new_feature[\"MostFreqLocation\"] = enc.transform(new_feature[\"MostFreqLocation\"])\n",
    "#np.save('locations.npy', enc.classes_) # to save the mapping\n",
    "\n",
    "## For reuse:\n",
    "#enc = preprocessing.LabelEncoder()\n",
    "#enc.classes_ = np.load('locations.npy')"
   ]
  },
  {
   "cell_type": "code",
   "execution_count": 22,
   "id": "70c30a32",
   "metadata": {},
   "outputs": [],
   "source": [
    "enc2 = preprocessing.LabelEncoder()\n",
    "enc2.fit(new_feature[\"MostCommonGender\"])\n",
    "new_feature[\"MostCommonGender\"] = enc2.transform(new_feature[\"MostCommonGender\"])\n",
    "#np.save('gender.npy', enc.classes_)"
   ]
  },
  {
   "cell_type": "code",
   "execution_count": 22,
   "id": "2f8f20f9",
   "metadata": {},
   "outputs": [],
   "source": [
    "enc2 = preprocessing.LabelEncoder()\n",
    "enc2.fit(new_feature[\"MostCommonGender\"])\n",
    "new_feature[\"MostCommonGender\"] = enc2.transform(new_feature[\"MostCommonGender\"])\n",
    "#np.save('gender.npy', enc.classes_)"
   ]
  },
  {
   "cell_type": "markdown",
   "id": "d3336b8d",
   "metadata": {},
   "source": [
    "The reusult is:"
   ]
  },
  {
   "cell_type": "code",
   "execution_count": 114,
   "id": "9029d45d",
   "metadata": {},
   "outputs": [
    {
     "data": {
      "text/html": [
       "<div>\n",
       "<style scoped>\n",
       "    .dataframe tbody tr th:only-of-type {\n",
       "        vertical-align: middle;\n",
       "    }\n",
       "\n",
       "    .dataframe tbody tr th {\n",
       "        vertical-align: top;\n",
       "    }\n",
       "\n",
       "    .dataframe thead th {\n",
       "        text-align: right;\n",
       "    }\n",
       "</style>\n",
       "<table border=\"1\" class=\"dataframe\">\n",
       "  <thead>\n",
       "    <tr style=\"text-align: right;\">\n",
       "      <th></th>\n",
       "      <th>NumTransactions</th>\n",
       "      <th>Ntbb</th>\n",
       "      <th>AveAmTransactions</th>\n",
       "      <th>Average Balance</th>\n",
       "      <th>Utilisation</th>\n",
       "      <th>MostCommonGender</th>\n",
       "      <th>MostFreqLocation</th>\n",
       "    </tr>\n",
       "  </thead>\n",
       "  <tbody>\n",
       "    <tr>\n",
       "      <th>0</th>\n",
       "      <td>2</td>\n",
       "      <td>2</td>\n",
       "      <td>2553.0</td>\n",
       "      <td>76340.635</td>\n",
       "      <td>73787.635</td>\n",
       "      <td>0</td>\n",
       "      <td>5155</td>\n",
       "    </tr>\n",
       "    <tr>\n",
       "      <th>1</th>\n",
       "      <td>1</td>\n",
       "      <td>1</td>\n",
       "      <td>1499.0</td>\n",
       "      <td>24204.490</td>\n",
       "      <td>22705.490</td>\n",
       "      <td>1</td>\n",
       "      <td>4699</td>\n",
       "    </tr>\n",
       "    <tr>\n",
       "      <th>2</th>\n",
       "      <td>2</td>\n",
       "      <td>2</td>\n",
       "      <td>727.5</td>\n",
       "      <td>100112.950</td>\n",
       "      <td>99385.450</td>\n",
       "      <td>0</td>\n",
       "      <td>4699</td>\n",
       "    </tr>\n",
       "    <tr>\n",
       "      <th>3</th>\n",
       "      <td>1</td>\n",
       "      <td>1</td>\n",
       "      <td>557.0</td>\n",
       "      <td>296828.370</td>\n",
       "      <td>296271.370</td>\n",
       "      <td>0</td>\n",
       "      <td>1883</td>\n",
       "    </tr>\n",
       "    <tr>\n",
       "      <th>4</th>\n",
       "      <td>2</td>\n",
       "      <td>2</td>\n",
       "      <td>932.0</td>\n",
       "      <td>5200.155</td>\n",
       "      <td>4268.155</td>\n",
       "      <td>1</td>\n",
       "      <td>7597</td>\n",
       "    </tr>\n",
       "  </tbody>\n",
       "</table>\n",
       "</div>"
      ],
      "text/plain": [
       "   NumTransactions  Ntbb  AveAmTransactions  Average Balance  Utilisation  \\\n",
       "0                2     2             2553.0        76340.635    73787.635   \n",
       "1                1     1             1499.0        24204.490    22705.490   \n",
       "2                2     2              727.5       100112.950    99385.450   \n",
       "3                1     1              557.0       296828.370   296271.370   \n",
       "4                2     2              932.0         5200.155     4268.155   \n",
       "\n",
       "   MostCommonGender  MostFreqLocation  \n",
       "0                 0              5155  \n",
       "1                 1              4699  \n",
       "2                 0              4699  \n",
       "3                 0              1883  \n",
       "4                 1              7597  "
      ]
     },
     "execution_count": 114,
     "metadata": {},
     "output_type": "execute_result"
    }
   ],
   "source": [
    "new_feature.head(5)"
   ]
  },
  {
   "cell_type": "markdown",
   "id": "90866c61",
   "metadata": {},
   "source": [
    "### With normalizzation"
   ]
  },
  {
   "cell_type": "code",
   "execution_count": 81,
   "id": "8817b29c",
   "metadata": {},
   "outputs": [],
   "source": [
    "normalized_df=(new_feature-new_feature.mean())/new_feature.std()"
   ]
  },
  {
   "cell_type": "code",
   "execution_count": 112,
   "id": "604ad326",
   "metadata": {
    "scrolled": true
   },
   "outputs": [
    {
     "name": "stdout",
     "output_type": "stream",
     "text": [
      "Variance: 0.5640581545291474\n"
     ]
    }
   ],
   "source": [
    "new_feature.drop(\"CustomerID\",axis=1,inplace=True)\n",
    "pca = PCA(n_components=2)\n",
    "red_data = pca.fit_transform(normalized_df)\n",
    "print(\"Variance:\",sum(pca.explained_variance_ratio_))"
   ]
  },
  {
   "cell_type": "markdown",
   "id": "850286c1",
   "metadata": {},
   "source": [
    "$\\longrightarrow$ the **variance** obtained is **too low**"
   ]
  },
  {
   "cell_type": "markdown",
   "id": "e78b6371",
   "metadata": {},
   "source": [
    "### Without normalizzation"
   ]
  },
  {
   "cell_type": "code",
   "execution_count": 111,
   "id": "b1e47e3d",
   "metadata": {
    "scrolled": true
   },
   "outputs": [
    {
     "name": "stdout",
     "output_type": "stream",
     "text": [
      "Variance: 0.999991696262488\n"
     ]
    }
   ],
   "source": [
    "#new_feature.drop(\"CustomerID\",axis=1,inplace=True)\n",
    "pca = PCA(n_components=2)\n",
    "red_data = pca.fit_transform(new_feature)\n",
    "print(\"Variance:\",sum(pca.explained_variance_ratio_))"
   ]
  },
  {
   "cell_type": "code",
   "execution_count": 109,
   "id": "51fad4fa",
   "metadata": {
    "scrolled": true
   },
   "outputs": [
    {
     "data": {
      "image/png": "[encoded data removed]",
      "text/plain": [
       "<Figure size 432x288 with 1 Axes>"
      ]
     },
     "metadata": {
      "needs_background": "light"
     },
     "output_type": "display_data"
    }
   ],
   "source": [
    "#plt.scatter(red_data[:,0],red_data[:,1],logy=True)\n",
    "\n",
    "fig, ax = plt.subplots()\n",
    "plt.grid(True,zorder=0, which=\"both\", ls=\"-\")\n",
    "ax.scatter(red_data[:,0],red_data[:,1], s=60, alpha=0.7, edgecolors=\"k\",zorder=3)\n",
    "plt.title(\"Reduced dataset on a logaritmic scale\")\n",
    "ax.set_yscale(\"log\")\n",
    "ax.set_xscale(\"log\")"
   ]
  }
 ],
 "metadata": {
  "kernelspec": {
   "display_name": "Python 3 (ipykernel)",
   "language": "python",
   "name": "python3"
  },
  "language_info": {
   "codemirror_mode": {
    "name": "ipython",
    "version": 3
   },
   "file_extension": ".py",
   "mimetype": "text/x-python",
   "name": "python",
   "nbconvert_exporter": "python",
   "pygments_lexer": "ipython3",
   "version": "3.8.3"
  }
 },
 "nbformat": 4,
 "nbformat_minor": 5
}
