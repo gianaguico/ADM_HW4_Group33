{
 "cells": [
  {
   "cell_type": "markdown",
   "id": "ffafca38",
   "metadata": {},
   "source": [
    "## 2. Grouping customers together!"
   ]
  },
  {
   "cell_type": "markdown",
   "id": "003d04c9",
   "metadata": {},
   "source": [
    "### 2.1 Getting your data + feature engineering"
   ]
  },
  {
   "cell_type": "code",
   "execution_count": 1,
   "id": "29f3221e",
   "metadata": {},
   "outputs": [],
   "source": [
    "import pandas as pd\n",
    "from datetime import datetime \n",
    "from scipy import stats\n",
    "import numpy as np"
   ]
  },
  {
   "cell_type": "code",
   "execution_count": 2,
   "id": "402ff886",
   "metadata": {},
   "outputs": [],
   "source": [
    "df = pd.read_csv('archive.zip') #reading the file "
   ]
  },
  {
   "cell_type": "code",
   "execution_count": 3,
   "id": "d4647bdb",
   "metadata": {},
   "outputs": [],
   "source": [
    "df.dropna(inplace = True) #dropping Nan values "
   ]
  },
  {
   "cell_type": "code",
   "execution_count": 4,
   "id": "6ce46a06",
   "metadata": {},
   "outputs": [],
   "source": [
    "#converting timestamps object in datetime objects \n",
    "df.CustomerDOB = pd.to_datetime(df.CustomerDOB)\n",
    "df.TransactionDate = pd.to_datetime(df.TransactionDate)\n",
    "df.TransactionTime = df.TransactionTime.apply(lambda x: datetime.strptime(str(x).zfill(6), '%H%M%S'))"
   ]
  },
  {
   "cell_type": "markdown",
   "id": "f36fb104",
   "metadata": {},
   "source": [
    "Replace (Date of Birth == 1800) and (Date of Birth > 2010) with _NaN_ in order to not lose the other information"
   ]
  },
  {
   "cell_type": "code",
   "execution_count": 5,
   "id": "1bef0af6",
   "metadata": {},
   "outputs": [],
   "source": [
    "df[\"CustomerDOB\"] = df[\"CustomerDOB\"].dt.year.replace(1800, np.NaN).astype(\"datetime64[ns]\")\n",
    "df[\"CustomerDOB\"] = df[\"CustomerDOB\"].dt.year.replace(r\"201\\d+\", np.NaN).astype(\"datetime64[ns]\")"
   ]
  },
  {
   "cell_type": "markdown",
   "id": "18da3f99",
   "metadata": {},
   "source": [
    "#### 2.1.2"
   ]
  },
  {
   "cell_type": "code",
   "execution_count": 6,
   "id": "550caaad",
   "metadata": {},
   "outputs": [],
   "source": [
    "# a) Number of transactions\n",
    "nt = df.groupby('CustomerID').count().TransactionID.reset_index(name='NumTransactions')\n",
    "new_feature = pd.DataFrame(nt)"
   ]
  },
  {
   "cell_type": "code",
   "execution_count": 7,
   "id": "73481e72",
   "metadata": {},
   "outputs": [],
   "source": [
    "# b) Number of transactions with a balance bigger than 100 USD\n",
    "df.rename(columns = {'TransactionAmount (INR)':'TransactionAmount'}, inplace = True)\n",
    "ntbb = df[df.TransactionAmount > 100].groupby('CustomerID').count().TransactionID.reset_index(name='Ntbb')\n",
    "new_feature = pd.merge(new_feature, ntbb, on = ['CustomerID', 'CustomerID'])"
   ]
  },
  {
   "cell_type": "code",
   "execution_count": 8,
   "id": "40ed2833",
   "metadata": {},
   "outputs": [],
   "source": [
    "# c) Average amount of the transactions\n",
    "aat = df.groupby('CustomerID').mean().TransactionAmount.reset_index(name='AveAmTransactions')\n",
    "new_feature = pd.merge(new_feature, aat, on = ['CustomerID', 'CustomerID'])"
   ]
  },
  {
   "cell_type": "code",
   "execution_count": 9,
   "id": "cbaf5785",
   "metadata": {},
   "outputs": [],
   "source": [
    "# d) Average balance\n",
    "ab = df.groupby('CustomerID').mean().CustAccountBalance.reset_index(name='Average Balance')\n",
    "new_feature = pd.merge(new_feature, ab, on = ['CustomerID', 'CustomerID'])"
   ]
  },
  {
   "cell_type": "code",
   "execution_count": 10,
   "id": "9b518f02",
   "metadata": {},
   "outputs": [],
   "source": [
    "# e) Average difference between the balance and the transaction amount for each customer\n",
    "df['utilisation'] = df['CustAccountBalance'] - df['TransactionAmount'] #Utilisations negative\n",
    "ut = df.groupby('CustomerID').mean().utilisation.reset_index(name='Utilisation')\n",
    "new_feature = pd.merge(new_feature, ut, on = ['CustomerID', 'CustomerID'])"
   ]
  },
  {
   "cell_type": "code",
   "execution_count": 11,
   "id": "a77523d0",
   "metadata": {},
   "outputs": [],
   "source": [
    "# f) Most common gender of the customer\n",
    "mcg = df.groupby('CustomerID')['CustGender'].agg(lambda x: stats.mode(x)[0][0]).reset_index(name='MostCommonGender')\n",
    "new_feature = pd.merge(new_feature, mcg, on = ['CustomerID', 'CustomerID'])"
   ]
  },
  {
   "cell_type": "code",
   "execution_count": 12,
   "id": "4388601e",
   "metadata": {},
   "outputs": [],
   "source": [
    "# h) Most frequent location of the customer \n",
    "mfl = df.groupby('CustomerID')['CustLocation'].agg(lambda x: stats.mode(x)[0][0]).reset_index(name='MostFreqLocation')\n",
    "new_feature = pd.merge(new_feature, mfl, on = ['CustomerID', 'CustomerID'])"
   ]
  },
  {
   "cell_type": "markdown",
   "id": "1ce4193f",
   "metadata": {},
   "source": [
    "#### 2.1.3"
   ]
  },
  {
   "cell_type": "markdown",
   "id": "250c551f",
   "metadata": {},
   "source": [
    "Our features:\n",
    "1. Average age\n",
    "2. Number of users\n",
    "3. Quantiles over the account balance\n",
    "4. Presence of transactions over 50'000\n",
    "5. Transaction amount variance\n",
    "6. Quantiles over the average transaction amount\n",
    "7. Number of different places\n",
    "8. Filter if the account has a transaction in the top 25 most frequent places\n",
    "9. Presence of minors in the account\n",
    "10. Mean hour for each customer\n",
    "11. Most common hour for each customer\n",
    "12. Number of women\n",
    "13. Number of men\n",
    "14. Max purchase\n",
    "15. Min purchase\n",
    "16. Avearage Transaction / Balance (%)\n",
    "17. Min Balance\n",
    "18. Max Balance\n",
    "19. Presence of recurring transactions (same tr. amount)\n",
    "20. Transaction Distance (in days)"
   ]
  },
  {
   "cell_type": "code",
   "execution_count": 13,
   "id": "57d1486d",
   "metadata": {},
   "outputs": [],
   "source": [
    "# 1) Average age of CustomerID\n",
    "df['CustAge'] = round(((df.TransactionDate - df.CustomerDOB) / np.timedelta64(1, 'Y')), 0)\n",
    "average = df.groupby('CustomerID').mean().CustAge.reset_index(name='AverageAge')\n",
    "new_feature = pd.merge(new_feature, average, on = ['CustomerID', 'CustomerID'])"
   ]
  },
  {
   "cell_type": "code",
   "execution_count": 14,
   "id": "53243e88",
   "metadata": {},
   "outputs": [],
   "source": [
    "# 2) Number of users per CustomerID\n",
    "nu = df.groupby('CustomerID')['CustomerID'].count().reset_index(name='UsersPerCustomerID')\n",
    "new_feature = pd.merge(new_feature, nu, on = ['CustomerID', 'CustomerID'])"
   ]
  },
  {
   "cell_type": "code",
   "execution_count": 15,
   "id": "111a3511",
   "metadata": {},
   "outputs": [],
   "source": [
    "# 3) Quantiles over the account balance distribution\n",
    "q = list(df[\"CustAccountBalance\"].quantile([0,.25,.50,.75,.95]))\n",
    "new_feature[\"BalanceQuant\"] = df.apply(lambda x: .95 if x.CustAccountBalance >= q[4] else .75 if x.CustAccountBalance >= q[3]\\\n",
    "                                     else .50 if x.CustAccountBalance >= q[2] else .25 if x.CustAccountBalance >= q[1] else 0, axis=1)"
   ]
  },
  {
   "cell_type": "code",
   "execution_count": 16,
   "id": "6d4e9f2e",
   "metadata": {},
   "outputs": [],
   "source": [
    "# 4) Presence of transactions over 50'000\n",
    "new_feature[\"TrOver50k\"]=df[\"CustomerID\"].isin(df[df[\"TransactionAmount\"]>=50000].CustomerID)"
   ]
  },
  {
   "cell_type": "code",
   "execution_count": 17,
   "id": "7bd3be39",
   "metadata": {},
   "outputs": [],
   "source": [
    "# 5) Transaction amount variance\n",
    "tav = df.groupby('CustomerID').var().TransactionAmount.reset_index(name='VarAmTransactions')\n",
    "new_feature = pd.merge(new_feature, tav, on = ['CustomerID', 'CustomerID'])"
   ]
  },
  {
   "cell_type": "code",
   "execution_count": 18,
   "id": "7a1351bc",
   "metadata": {},
   "outputs": [],
   "source": [
    "# 6) Quantiles over the average transaction amount\n",
    "q = list(new_feature[\"AveAmTransactions\"].quantile([0,.25,.50,.75,.95]))\n",
    "new_feature[\"AveTrQuant\"] = new_feature.apply(lambda x: .95 if x.AveAmTransactions >= q[4] else .75 if x.AveAmTransactions >= q[3]\\\n",
    "                                     else .50 if x.AveAmTransactions >= q[2] else .25 if x.AveAmTransactions >= q[1] else 0, axis=1)"
   ]
  },
  {
   "cell_type": "code",
   "execution_count": 19,
   "id": "9d3f4b39",
   "metadata": {},
   "outputs": [],
   "source": [
    "# 7) Number of different places\n",
    "diff = df.groupby(\"CustomerID\").CustLocation.count().reset_index(name='DifferentLocations')\n",
    "new_feature = pd.merge(new_feature, diff, on = ['CustomerID', 'CustomerID'])"
   ]
  },
  {
   "cell_type": "code",
   "execution_count": 20,
   "id": "ee8f4b0c",
   "metadata": {},
   "outputs": [],
   "source": [
    "# 8) Filter if the account has a transaction in the top 25 most frequent places\n",
    "places = df.groupby(\"CustLocation\").CustomerID.count().sort_values(ascending=False)\n",
    "top_places = places.head(int(len(places)*0.25))\n",
    "has_tx = df[df.apply(lambda x: x.CustLocation in top_places.index, axis=1)].CustomerID.unique()\n",
    "new_feature[\"TopPlaces\"] = df[\"CustomerID\"].isin(has_tx)"
   ]
  },
  {
   "cell_type": "code",
   "execution_count": 21,
   "id": "1d6c3338",
   "metadata": {},
   "outputs": [],
   "source": [
    "# 9) Presence of minors in the account\n",
    "new_feature[\"WithChildren\"]=df[\"CustomerID\"].isin(df[df[\"CustAge\"]<18].CustomerID)"
   ]
  },
  {
   "cell_type": "code",
   "execution_count": 22,
   "id": "6ddda53c",
   "metadata": {},
   "outputs": [],
   "source": [
    "# 10) Mean hour for each customer\n",
    "mh = df.groupby(\"CustomerID\").TransactionTime.mean().apply(lambda x: x.hour).reset_index(name='MeanHour')\n",
    "new_feature = pd.merge(new_feature, mh, on = ['CustomerID', 'CustomerID']) "
   ]
  },
  {
   "cell_type": "code",
   "execution_count": 23,
   "id": "a6af03d0",
   "metadata": {},
   "outputs": [],
   "source": [
    "# 11) Most common hour for each customer\n",
    "df[\"TrHour\"] = df.apply(lambda x: x.TransactionTime.hour,axis=1)\n",
    "moh = df.groupby(\"CustomerID\").TrHour.agg(lambda x: pd.Series.mode(x).iloc[0]).reset_index(name='MostCommonHour')\n",
    "new_feature = pd.merge(new_feature, moh, on = ['CustomerID', 'CustomerID']) "
   ]
  },
  {
   "cell_type": "code",
   "execution_count": 24,
   "id": "00ea41bd",
   "metadata": {},
   "outputs": [],
   "source": [
    "# 12) Number of women\n",
    "wn = df[df[\"CustGender\"]==\"F\"].groupby(\"CustomerID\").CustomerDOB.count().reset_index(name='NumOfWomen')\n",
    "new_feature = pd.merge(new_feature, wn, on = ['CustomerID', 'CustomerID']) "
   ]
  },
  {
   "cell_type": "code",
   "execution_count": 25,
   "id": "27655b46",
   "metadata": {},
   "outputs": [],
   "source": [
    "# 13) Number of men\n",
    "mn = df[df[\"CustGender\"]==\"M\"].groupby(\"CustomerID\").CustomerDOB.count().reset_index(name='NumOfMen')\n",
    "new_feature = pd.merge(new_feature, mn, on = ['CustomerID', 'CustomerID']) "
   ]
  },
  {
   "cell_type": "code",
   "execution_count": 26,
   "id": "b38ec9a7",
   "metadata": {},
   "outputs": [],
   "source": [
    "# 14) Max purchase\n",
    "mxp =  df.groupby('CustomerID').TransactionAmount.max().reset_index(name='MaxTransaction')\n",
    "new_feature = pd.merge(new_feature, mxp, on = ['CustomerID', 'CustomerID'])"
   ]
  },
  {
   "cell_type": "code",
   "execution_count": 27,
   "id": "c38bd3b8",
   "metadata": {},
   "outputs": [],
   "source": [
    "# 15) Min purchase\n",
    "mnp =  df.groupby('CustomerID').TransactionAmount.min().reset_index(name='MinTransaction')\n",
    "new_feature = pd.merge(new_feature, mnp, on = ['CustomerID', 'CustomerID'])"
   ]
  },
  {
   "cell_type": "code",
   "execution_count": 28,
   "id": "f7cbe090",
   "metadata": {},
   "outputs": [],
   "source": [
    "# 16) Transaction / Balance (%)\n",
    "df['TransactionBalance'] = (df['TransactionAmount'] * 100) / (df['CustAccountBalance']+df['TransactionAmount'])\n",
    "atb =  df.groupby('CustomerID').TransactionBalance.mean().reset_index(name='Ave_Transaction/Balance')\n",
    "new_feature = pd.merge(new_feature, atb, on = ['CustomerID', 'CustomerID'])"
   ]
  },
  {
   "cell_type": "code",
   "execution_count": 29,
   "id": "54d9984b",
   "metadata": {},
   "outputs": [],
   "source": [
    "# 17) Min Balance\n",
    "mnp =  df.groupby('CustomerID').CustAccountBalance.min().reset_index(name='MinBalance')\n",
    "new_feature = pd.merge(new_feature, mnp, on = ['CustomerID', 'CustomerID'])"
   ]
  },
  {
   "cell_type": "code",
   "execution_count": 30,
   "id": "e11ff184",
   "metadata": {},
   "outputs": [],
   "source": [
    "# 18) Max Balance\n",
    "mnp =  df.groupby('CustomerID').CustAccountBalance.max().reset_index(name='MaxBalance')\n",
    "new_feature = pd.merge(new_feature, mnp, on = ['CustomerID', 'CustomerID'])"
   ]
  },
  {
   "cell_type": "code",
   "execution_count": 31,
   "id": "f3a313af",
   "metadata": {},
   "outputs": [],
   "source": [
    "# 19) Presence of recurring transactions\n",
    "rec = df.groupby([\"CustomerID\",\"TransactionAmount\"]).TransactionID.count().groupby(\"CustomerID\").max().reset_index(name='RecurringTr')\n",
    "new_feature = pd.merge(new_feature, rec, on = ['CustomerID', 'CustomerID'])"
   ]
  },
  {
   "cell_type": "code",
   "execution_count": 32,
   "id": "9e40152b",
   "metadata": {},
   "outputs": [],
   "source": [
    "# 20) Transaction Distance (in days)\n",
    "dif = df.sort_values(['CustomerID','TransactionDate'])\\\n",
    "           .groupby('CustomerID')['TransactionDate']\\\n",
    "           .diff().dt.days.fillna(0).rename(\"TrDayDiff\")\n",
    "\n",
    "new_feature.sort_values(\"CustomerID\",inplace=True)\n",
    "new_feature[\"TrDayDiff\"] = dif"
   ]
  },
  {
   "cell_type": "markdown",
   "id": "e2e1feed",
   "metadata": {},
   "source": [
    "The result is a DataFrame with 27 features:"
   ]
  },
  {
   "cell_type": "code",
   "execution_count": 33,
   "id": "8ad86996",
   "metadata": {
    "scrolled": true
   },
   "outputs": [
    {
     "data": {
      "text/plain": [
       "Index(['CustomerID', 'NumTransactions', 'Ntbb', 'AveAmTransactions',\n",
       "       'Average Balance', 'Utilisation', 'MostCommonGender',\n",
       "       'MostFreqLocation', 'AverageAge', 'UsersPerCustomerID', 'BalanceQuant',\n",
       "       'TrOver50k', 'VarAmTransactions', 'AveTrQuant', 'DifferentLocations',\n",
       "       'TopPlaces', 'WithChildren', 'MeanHour', 'MostCommonHour', 'NumOfWomen',\n",
       "       'NumOfMen', 'MaxTransaction', 'MinTransaction',\n",
       "       'Ave_Transaction/Balance', 'MinBalance', 'MaxBalance', 'RecurringTr',\n",
       "       'TrDayDiff'],\n",
       "      dtype='object')"
      ]
     },
     "execution_count": 33,
     "metadata": {},
     "output_type": "execute_result"
    }
   ],
   "source": [
    "new_feature.columns"
   ]
  },
  {
   "cell_type": "markdown",
   "id": "f696f594",
   "metadata": {},
   "source": [
    "# 2.2"
   ]
  },
  {
   "cell_type": "code",
   "execution_count": 34,
   "id": "31d0950f",
   "metadata": {},
   "outputs": [],
   "source": [
    "from sklearn import preprocessing\n",
    "from sklearn.decomposition import PCA\n",
    "from sklearn.preprocessing import MinMaxScaler\n",
    "import matplotlib.pyplot as plt"
   ]
  },
  {
   "cell_type": "markdown",
   "id": "04bc71e4",
   "metadata": {},
   "source": [
    "### 2.1 Preprocessing\n",
    "Encoding categorical features:\n",
    "```python\n",
    "\"\"\"Save the mapping array\"\"\"\n",
    "#enc = preprocessing.LabelEncoder()\n",
    "np.save('array.npy', enc.classes_) # to save the mapping\n",
    "enc.classes_ = np.load('array.npy') # for reuse\n",
    "```"
   ]
  },
  {
   "cell_type": "code",
   "execution_count": 35,
   "id": "233e5c7e",
   "metadata": {},
   "outputs": [],
   "source": [
    "features = [\"MostFreqLocation\",\"MostCommonGender\",\"TrOver50k\",\"TopPlaces\",\"WithChildren\"]  # all non-numeric features\n",
    "for f in features:\n",
    "    enc = preprocessing.LabelEncoder()\n",
    "    enc.fit(new_feature[f])\n",
    "    new_feature[f] = enc.transform(new_feature[f])\n",
    "    np.save(\"./map/\"+f+'.npy', enc.classes_)"
   ]
  },
  {
   "cell_type": "markdown",
   "id": "a4b85c70",
   "metadata": {},
   "source": [
    "Scaling to [0,1]"
   ]
  },
  {
   "cell_type": "code",
   "execution_count": 41,
   "id": "20e8050f",
   "metadata": {},
   "outputs": [],
   "source": [
    "scaler = MinMaxScaler()\n",
    "scaled = scaler.fit_transform(new_feature.dropna().drop(\"CustomerID\",axis=1))"
   ]
  },
  {
   "cell_type": "markdown",
   "id": "16a61e42",
   "metadata": {},
   "source": [
    "### 2.2 PCA"
   ]
  },
  {
   "cell_type": "code",
   "execution_count": null,
   "id": "480a172b",
   "metadata": {},
   "outputs": [],
   "source": [
    "new_feature.dropna().drop(\"CustomerID\",axis=1)"
   ]
  },
  {
   "cell_type": "code",
   "execution_count": 45,
   "id": "28d73082",
   "metadata": {},
   "outputs": [
    {
     "name": "stdout",
     "output_type": "stream",
     "text": [
      "Variance: 0.3713217293993575\n"
     ]
    }
   ],
   "source": [
    "pca = PCA(n_components=2)\n",
    "red_data = pca.fit_transform(scaled)\n",
    "print(\"Variance:\",sum(pca.explained_variance_ratio_))"
   ]
  },
  {
   "cell_type": "markdown",
   "id": "27b4c271",
   "metadata": {},
   "source": [
    "$\\longrightarrow$ _In the scaled version the variance is too low_"
   ]
  },
  {
   "cell_type": "code",
   "execution_count": 46,
   "id": "cc44843f",
   "metadata": {},
   "outputs": [
    {
     "name": "stdout",
     "output_type": "stream",
     "text": [
      "Variance: 0.9999999629750561\n"
     ]
    }
   ],
   "source": [
    "pca = PCA(n_components=2)\n",
    "red_data = pca.fit_transform(new_feature.dropna().drop(\"CustomerID\",axis=1))\n",
    "print(\"Variance:\",sum(pca.explained_variance_ratio_))"
   ]
  },
  {
   "cell_type": "code",
   "execution_count": 52,
   "id": "5dcc53e5",
   "metadata": {},
   "outputs": [],
   "source": [
    "#np.save('reduced_data.npy', red_data)"
   ]
  },
  {
   "cell_type": "code",
   "execution_count": 47,
   "id": "c849fea2",
   "metadata": {},
   "outputs": [
    {
     "data": {
      "image/png": "[encoded data removed]",
      "text/plain": [
       "<Figure size 432x288 with 1 Axes>"
      ]
     },
     "metadata": {
      "needs_background": "light"
     },
     "output_type": "display_data"
    }
   ],
   "source": [
    "fig, ax = plt.subplots()\n",
    "plt.grid(True,zorder=0, which=\"both\", ls=\"-\")\n",
    "ax.scatter(red_data[:,0],red_data[:,1], s=60, alpha=0.7, edgecolors=\"k\",zorder=3)\n",
    "plt.title(\"Reduced dataset on a logaritmic scale\")\n",
    "ax.set_yscale(\"log\")\n",
    "ax.set_xscale(\"log\")"
   ]
  }
 ],
 "metadata": {
  "kernelspec": {
   "display_name": "Python 3 (ipykernel)",
   "language": "python",
   "name": "python3"
  },
  "language_info": {
   "codemirror_mode": {
    "name": "ipython",
    "version": 3
   },
   "file_extension": ".py",
   "mimetype": "text/x-python",
   "name": "python",
   "nbconvert_exporter": "python",
   "pygments_lexer": "ipython3",
   "version": "3.8.3"
  }
 },
 "nbformat": 4,
 "nbformat_minor": 5
}
