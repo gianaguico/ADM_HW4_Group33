{
 "cells": [
  {
   "cell_type": "code",
   "execution_count": 2,
   "id": "a4301301",
   "metadata": {},
   "outputs": [],
   "source": [
    "import pyspark\n",
    "import numpy as np\n",
    "from pyspark import SparkContext, SparkConf\n",
    "from tqdm import tqdm\n",
    "import pandas as pd"
   ]
  },
  {
   "cell_type": "code",
   "execution_count": 16,
   "id": "0939f3cd",
   "metadata": {},
   "outputs": [],
   "source": [
    "import warnings\n",
    "warnings.filterwarnings(\"ignore\")"
   ]
  },
  {
   "cell_type": "code",
   "execution_count": 3,
   "id": "9b5a3966",
   "metadata": {},
   "outputs": [],
   "source": [
    "data = np.load('reduced_data.npy')"
   ]
  },
  {
   "cell_type": "code",
   "execution_count": 4,
   "id": "e1060330",
   "metadata": {},
   "outputs": [
    {
     "name": "stderr",
     "output_type": "stream",
     "text": [
      "Setting default log level to \"WARN\".\n",
      "To adjust logging level use sc.setLogLevel(newLevel). For SparkR, use setLogLevel(newLevel).\n"
     ]
    },
    {
     "name": "stdout",
     "output_type": "stream",
     "text": [
      "22/12/08 14:37:04 WARN NativeCodeLoader: Unable to load native-hadoop library for your platform... using builtin-java classes where applicable\n",
      "22/12/08 14:37:06 WARN Utils: Service 'SparkUI' could not bind on port 4040. Attempting port 4041.\n"
     ]
    }
   ],
   "source": [
    "conf = SparkConf().setAppName(\"Prova\").setMaster(\"local\")\n",
    "sc = SparkContext(conf=conf)"
   ]
  },
  {
   "cell_type": "code",
   "execution_count": 5,
   "id": "c3e15e1b",
   "metadata": {},
   "outputs": [
    {
     "name": "stdout",
     "output_type": "stream",
     "text": [
      "22/12/08 14:37:12 WARN TaskSetManager: Stage 0 contains a task of very large size (2231 KiB). The maximum recommended task size is 1000 KiB.\n"
     ]
    },
    {
     "name": "stderr",
     "output_type": "stream",
     "text": [
      "[Stage 0:>                                                          (0 + 1) / 1]\r"
     ]
    },
    {
     "name": "stdout",
     "output_type": "stream",
     "text": [
      "22/12/08 14:37:13 WARN TaskSetManager: Stage 1 contains a task of very large size (2231 KiB). The maximum recommended task size is 1000 KiB.\n"
     ]
    },
    {
     "name": "stderr",
     "output_type": "stream",
     "text": [
      "                                                                                \r"
     ]
    }
   ],
   "source": [
    "points = list(zip(data[:,0], data[:,1]))\n",
    "rdd = sc.parallelize(points)\n",
    "cent = rdd.takeSample(withReplacement=False, num=3) # initial random centroid"
   ]
  },
  {
   "cell_type": "code",
   "execution_count": 17,
   "id": "f84b030c",
   "metadata": {},
   "outputs": [],
   "source": [
    "def min_distance(x, c:list):\n",
    "    x, c = np.array(x), np.array(c)\n",
    "    dist = np.array(list(map(lambda a: np.linalg.norm(a - x)**2, c)))\n",
    "    return np.argmin(dist)"
   ]
  },
  {
   "cell_type": "code",
   "execution_count": 18,
   "id": "4ca0c322",
   "metadata": {},
   "outputs": [],
   "source": [
    "def squared_distance(x, c:list):\n",
    "    x, c = np.array(x), np.array(c)\n",
    "    dist = np.array(list(map(lambda a: np.linalg.norm(a - x)**2, c)))\n",
    "    return np.min(dist)"
   ]
  },
  {
   "cell_type": "code",
   "execution_count": 19,
   "id": "8a0db6c6",
   "metadata": {},
   "outputs": [],
   "source": [
    "def k_means(rdd, cent):\n",
    "    belong = rdd.map(lambda x: (min_distance(x, cent), x)) # which cluster each data belongs to\n",
    "    return pd.DataFrame(belong.collect())\n",
    "    \n",
    "def centroids(rdd, cent):\n",
    "    belong = rdd.map(lambda x: (min_distance(x, cent), x)) # which cluster each data belongs to\n",
    "    count = belong.countByKey()\n",
    "    summation = belong.reduceByKey(lambda x, y: (x[0]+y[0],  x[1]+y[1])) # pairwise summation over the values\n",
    "    cent = summation.map(lambda x: (np.array(x[1])/ count[x[0]]))\n",
    "    return cent.collect()\n",
    "\n",
    "def var(rdd, cent):\n",
    "    accum = sc.accumulator(0)\n",
    "    rdd.map(lambda x: squared_distance(x, cent)).foreach(lambda x: accum.add(x))\n",
    "    return accum.value"
   ]
  },
  {
   "cell_type": "code",
   "execution_count": 22,
   "id": "7d6daf0b",
   "metadata": {},
   "outputs": [],
   "source": [
    "def iterating(k, rdd, threshold = 10):\n",
    "    cent = rdd.takeSample(withReplacement=False, num=k) # initial random centroid    \n",
    "    for i in range(20):\n",
    "        prev_cent = cent\n",
    "        cent = centroids(rdd, cent)\n",
    "        distance = np.linalg.norm(np.array(prev_cent)-np.array(cent))\n",
    "        if distance < threshold:\n",
    "            break\n",
    "    variance = var(rdd, cent)\n",
    "    clusters = k_means(rdd, cent)\n",
    "    return clusters, variance"
   ]
  },
  {
   "cell_type": "code",
   "execution_count": 24,
   "id": "1165ee14",
   "metadata": {},
   "outputs": [
    {
     "name": "stderr",
     "output_type": "stream",
     "text": [
      "100%|██████████| 8/8 [20:34<00:00, 154.35s/it]                                  "
     ]
    },
    {
     "name": "stdout",
     "output_type": "stream",
     "text": [
      "[2.8013704395767514e+21, 2.1640258634685318e+21, 1.9768303617021276e+21, 1.8701459708189745e+21, 1.8964969868030478e+21, 1.8699815129940964e+21, 1.8548097874513274e+21, 1.8679814308210305e+21]\n"
     ]
    },
    {
     "name": "stderr",
     "output_type": "stream",
     "text": [
      "\n"
     ]
    }
   ],
   "source": [
    "sc.setLogLevel(\"OFF\")\n",
    "l = []\n",
    "for k in tqdm(range(3, 11)):\n",
    "    clusters, variance = iterating(k, rdd, threshold = 10)\n",
    "    l.append(variance)\n",
    "print(l)"
   ]
  },
  {
   "cell_type": "code",
   "execution_count": 25,
   "id": "95836ea9",
   "metadata": {},
   "outputs": [
    {
     "data": {
      "text/plain": [
       "<AxesSubplot:>"
      ]
     },
     "execution_count": 25,
     "metadata": {},
     "output_type": "execute_result"
    },
    {
     "data": {
      "image/png": "[encoded data removed]",
      "text/plain": [
       "<Figure size 432x288 with 1 Axes>"
      ]
     },
     "metadata": {
      "needs_background": "light"
     },
     "output_type": "display_data"
    }
   ],
   "source": [
    "pd.DataFrame(l).plot()"
   ]
  },
  {
   "cell_type": "code",
   "execution_count": null,
   "id": "99745037",
   "metadata": {},
   "outputs": [],
   "source": []
  },
  {
   "cell_type": "code",
   "execution_count": 20,
   "id": "ad946866",
   "metadata": {},
   "outputs": [],
   "source": []
  },
  {
   "cell_type": "code",
   "execution_count": 21,
   "id": "56ff366a",
   "metadata": {},
   "outputs": [],
   "source": [
    " "
   ]
  }
 ],
 "metadata": {
  "kernelspec": {
   "display_name": "conda_python3",
   "language": "python",
   "name": "conda_python3"
  },
  "language_info": {
   "codemirror_mode": {
    "name": "ipython",
    "version": 3
   },
   "file_extension": ".py",
   "mimetype": "text/x-python",
   "name": "python",
   "nbconvert_exporter": "python",
   "pygments_lexer": "ipython3",
   "version": "3.8.12"
  }
 },
 "nbformat": 4,
 "nbformat_minor": 5
}
