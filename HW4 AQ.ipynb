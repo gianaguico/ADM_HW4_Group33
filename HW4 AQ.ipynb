{
 "cells": [
  {
   "cell_type": "code",
   "execution_count": 45,
   "id": "de42ce5f",
   "metadata": {},
   "outputs": [
    {
     "name": "stdout",
     "output_type": "stream",
     "text": [
      "4\n",
      "20\n",
      "3\n",
      "1 1 2 1 4 2 1 4 4 3 2 3 4 2 2 2 3 4 3 4\n",
      "YES\n"
     ]
    }
   ],
   "source": [
    "from collections import Counter\n",
    "\n",
    "N = int(input()) # number of entrances\n",
    "M = int(input()) # number of students\n",
    "G = int(input()) # number of guards\n",
    "\n",
    "assigned_entrances = list(map(int, input().split())) # number of the entrance assigned to each student\n",
    "\n",
    "# just a check over the input\n",
    "if (len(assigned_entrances) != M) or (all(assigned_entrances[i] in range(1, N+1) for i in range(M)) == False):                       \n",
    "    assigned_entrances = list(map(int, input().split()))\n",
    "\n",
    "d = Counter(assigned_entrances) # counts how many students will pass through an entrance\n",
    "\n",
    "guards = {f'{i+1}' : 0 for i in range(N)} # the values will become 1 if a guard will be assigned to the i-th entrance\n",
    "\n",
    "if G >= N: # if the number of guards is greater or equal to the number of entrances it returns YES\n",
    "    print('YES')\n",
    "else:\n",
    "    s = set() # to check what entrances had been already used\n",
    "    \n",
    "    #iterating over the list assigned entrances\n",
    "    for i in range(M):\n",
    "        \n",
    "        #if it's the first time we encounter an entrance number \n",
    "        if assigned_entrances[i] not in s and G >= 0:\n",
    "            s.add(assigned_entrances[i])\n",
    "            # if there are still guards\n",
    "            if G > 0:\n",
    "                # we assign 1 to the corresponding key in the dictionary guards\n",
    "                guards[f'{assigned_entrances[i]}'] = 1  \n",
    "            # we decrease the number of available guards \n",
    "            G -= 1\n",
    "            d[assigned_entrances[i]] -= 1\n",
    "            \n",
    "        # otherwise\n",
    "        elif assigned_entrances[i] in s:\n",
    "            d[assigned_entrances[i]] -= 1\n",
    "            #if d[assigned_entrances[i]]=0 it means that we won't meet that number anymore, so the guard could be assigned again\n",
    "            if d[assigned_entrances[i]] == 0  and G >= 0:\n",
    "                G += 1\n",
    "                \n",
    "        # if we have no more guards left but we still haven't meet some of the numbers assigned to the students\n",
    "        if G < 0 and len(s) <= len(d.keys()):\n",
    "            print('NO')\n",
    "            break\n",
    "    \n",
    "    # if we exit the loop and all the keys in the dictionary guards that are also in the counter d have values equal to 1\n",
    "    # it means that all the students are in, hence there were enough guards\n",
    "    if all(guards[f'{key}'] == 1 for key in d.keys()) == True:\n",
    "        print('YES')\n",
    "                \n",
    "            "
   ]
  }
 ],
 "metadata": {
  "kernelspec": {
   "display_name": "Python 3 (ipykernel)",
   "language": "python",
   "name": "python3"
  },
  "language_info": {
   "codemirror_mode": {
    "name": "ipython",
    "version": 3
   },
   "file_extension": ".py",
   "mimetype": "text/x-python",
   "name": "python",
   "nbconvert_exporter": "python",
   "pygments_lexer": "ipython3",
   "version": "3.9.12"
  }
 },
 "nbformat": 4,
 "nbformat_minor": 5
}
